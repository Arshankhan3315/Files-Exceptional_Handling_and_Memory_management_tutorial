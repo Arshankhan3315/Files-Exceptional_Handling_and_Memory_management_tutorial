{
 "cells": [
  {
   "cell_type": "markdown",
   "id": "45eb40d5",
   "metadata": {},
   "source": [
    "# Files,Exceptional Handling and Memory management"
   ]
  },
  {
   "cell_type": "markdown",
   "id": "385dd2dc",
   "metadata": {},
   "source": [
    "# Working with Files"
   ]
  },
  {
   "cell_type": "code",
   "execution_count": 1,
   "id": "14ceaa3a",
   "metadata": {},
   "outputs": [],
   "source": [
    "f=open('xyz.txt','w')           # click the shift tab then you know mode like r means read and w means write"
   ]
  },
  {
   "cell_type": "code",
   "execution_count": 2,
   "id": "a8737751",
   "metadata": {},
   "outputs": [
    {
     "data": {
      "text/plain": [
       "'C:\\\\Users\\\\arsha'"
      ]
     },
     "execution_count": 2,
     "metadata": {},
     "output_type": "execute_result"
    }
   ],
   "source": [
    "pwd   #know where the file created"
   ]
  },
  {
   "cell_type": "code",
   "execution_count": 3,
   "id": "47aee11a",
   "metadata": {},
   "outputs": [
    {
     "name": "stdout",
     "output_type": "stream",
     "text": [
      " Volume in drive C is Acer\n",
      " Volume Serial Number is B285-D27C\n",
      "\n",
      " Directory of C:\\Users\\arsha\n",
      "\n",
      "24-02-2024  22:56    <DIR>          .\n",
      "01-02-2024  14:29    <DIR>          ..\n",
      "02-01-2024  22:59    <DIR>          .cache\n",
      "21-02-2024  15:19    <DIR>          .conda\n",
      "03-01-2024  22:58    <DIR>          .docker\n",
      "02-02-2024  11:59               212 .gitconfig\n",
      "12-12-2023  00:02    <DIR>          .idlerc\n",
      "24-02-2024  22:51    <DIR>          .ipynb_checkpoints\n",
      "13-12-2023  16:17    <DIR>          .ipython\n",
      "04-01-2024  00:18    <DIR>          .jupyter\n",
      "07-01-2024  11:03    <DIR>          .matplotlib\n",
      "30-01-2024  23:55    <DIR>          .virtualenvs\n",
      "31-01-2024  00:20    <DIR>          .vscode\n",
      "08-01-2024  23:06    <DIR>          .wdm\n",
      "27-01-2024  17:49            14,630 Algerian_forest_fires_dataset_CLEANED.csv\n",
      "27-01-2024  17:33            14,510 Algerian_forest_fires_dataset_UPDATE.csv\n",
      "03-02-2024  20:28    <DIR>          Apple\n",
      "25-01-2024  18:09        17,000,448 chromedriver.exe\n",
      "21-02-2024  15:13                 0 code\n",
      "17-11-2023  16:48    <DIR>          Contacts\n",
      "07-02-2024  03:15         5,107,437 Decision Tree-2 Assignment.ipynb\n",
      "07-02-2024  01:41            23,873 diabetes (1).csv\n",
      "07-02-2024  02:33             6,748 diabetes_decision_tree\n",
      "14-02-2024  01:18    <DIR>          Documents\n",
      "24-02-2024  20:01    <DIR>          Downloads\n",
      "04-01-2024  00:26    <DIR>          Dropbox\n",
      "28-01-2024  16:13         2,403,141 EDA.ipynb\n",
      "17-11-2023  16:48    <DIR>          Favorites\n",
      "24-02-2024  22:56             1,481 Files,Exceptional Handling and Memory management.ipynb\n",
      "28-01-2024  14:33           530,389 flight_price.xlsx\n",
      "12-02-2024  19:37         1,349,314 googleplaystore.csv\n",
      "29-01-2024  22:54        73,330,066 ImageScrapping.log\n",
      "04-02-2024  19:03            26,133 IMG_Scrapper_Project.ipynb\n",
      "17-11-2023  16:48    <DIR>          Links\n",
      "03-02-2024  20:27    <DIR>          Music\n",
      "24-02-2024  15:14    <DIR>          OneDrive\n",
      "07-12-2023  18:12    <DIR>          Postman\n",
      "11-12-2023  23:17    <DIR>          PycharmProjects\n",
      "22-02-2024  18:58           290,009 Python Tutorial.ipynb\n",
      "31-01-2024  00:47    <DIR>          python.py\n",
      "17-11-2023  16:48    <DIR>          Saved Games\n",
      "01-02-2024  20:40           164,698 Screenshot 2024-02-01 200512.png\n",
      "19-12-2023  00:26    <DIR>          Searches\n",
      "14-02-2024  21:59           678,723 Stats_revesion.ipynb\n",
      "08-02-2024  00:44             6,040 Untitled.ipynb\n",
      "09-02-2024  21:54    <DIR>          Videos\n",
      "08-02-2024  00:38           100,951 winequality-red.csv\n",
      "24-02-2024  22:56                 0 xyz.txt\n",
      "29-01-2024  22:43             1,542 YoutubeData.csv\n",
      "              21 File(s)    101,050,345 bytes\n",
      "              28 Dir(s)  337,737,322,496 bytes free\n"
     ]
    }
   ],
   "source": [
    "ls"
   ]
  },
  {
   "cell_type": "code",
   "execution_count": 4,
   "id": "d0c9115e",
   "metadata": {},
   "outputs": [],
   "source": [
    "# change location \n",
    "# cd work     #like this "
   ]
  },
  {
   "cell_type": "code",
   "execution_count": 5,
   "id": "0798502e",
   "metadata": {},
   "outputs": [],
   "source": [
    "# know the file is balank"
   ]
  },
  {
   "cell_type": "code",
   "execution_count": 6,
   "id": "2aa9b5bd",
   "metadata": {},
   "outputs": [],
   "source": [
    "f.write('This is my first file')   # write the data in file\n",
    "f.close() # when you close then data show you  "
   ]
  },
  {
   "cell_type": "code",
   "execution_count": 10,
   "id": "af773fbf",
   "metadata": {},
   "outputs": [
    {
     "name": "stdout",
     "output_type": "stream",
     "text": [
      "This is my first file\n"
     ]
    }
   ],
   "source": [
    "f=open('xyz.txt','r')\n",
    "print(f.read())   # read the data"
   ]
  },
  {
   "cell_type": "code",
   "execution_count": 11,
   "id": "7acbe946",
   "metadata": {},
   "outputs": [],
   "source": [
    "f=open('xyz.txt','w')  # a mens tracute the data\n",
    "f.write('This is my second line')\n",
    "f.close()"
   ]
  },
  {
   "cell_type": "code",
   "execution_count": 12,
   "id": "6e635a8a",
   "metadata": {},
   "outputs": [
    {
     "name": "stdout",
     "output_type": "stream",
     "text": [
      "This is my second line\n"
     ]
    }
   ],
   "source": [
    "f=open('xyz.txt','r')\n",
    "print(f.read())"
   ]
  },
  {
   "cell_type": "code",
   "execution_count": 17,
   "id": "5e5413f4",
   "metadata": {},
   "outputs": [
    {
     "data": {
      "text/plain": [
       "''"
      ]
     },
     "execution_count": 17,
     "metadata": {},
     "output_type": "execute_result"
    }
   ],
   "source": [
    "f.readline()"
   ]
  },
  {
   "cell_type": "code",
   "execution_count": 34,
   "id": "11c0b8a9",
   "metadata": {},
   "outputs": [
    {
     "data": {
      "text/plain": [
       "0"
      ]
     },
     "execution_count": 34,
     "metadata": {},
     "output_type": "execute_result"
    }
   ],
   "source": [
    "f.seek(0)  #pointer go to first letter"
   ]
  },
  {
   "cell_type": "code",
   "execution_count": 35,
   "id": "ca778670",
   "metadata": {},
   "outputs": [
    {
     "data": {
      "text/plain": [
       "'This is my second line'"
      ]
     },
     "execution_count": 35,
     "metadata": {},
     "output_type": "execute_result"
    }
   ],
   "source": [
    "f.readline()"
   ]
  },
  {
   "cell_type": "code",
   "execution_count": 36,
   "id": "cb7b7924",
   "metadata": {},
   "outputs": [
    {
     "data": {
      "text/plain": [
       "22"
      ]
     },
     "execution_count": 36,
     "metadata": {},
     "output_type": "execute_result"
    }
   ],
   "source": [
    "# size of file\n",
    "import os\n",
    "os.path.getsize('xyz.txt')  # 22byte"
   ]
  },
  {
   "cell_type": "code",
   "execution_count": 42,
   "id": "0bdbdddb",
   "metadata": {},
   "outputs": [],
   "source": [
    "import shutil  # copy data"
   ]
  },
  {
   "cell_type": "code",
   "execution_count": 41,
   "id": "4e37f056",
   "metadata": {},
   "outputs": [
    {
     "data": {
      "text/plain": [
       "'copy_xyz.txt'"
      ]
     },
     "execution_count": 41,
     "metadata": {},
     "output_type": "execute_result"
    }
   ],
   "source": [
    "shutil.copy('xyz.txt','copy_xyz.txt')"
   ]
  },
  {
   "cell_type": "code",
   "execution_count": 43,
   "id": "225fe682",
   "metadata": {},
   "outputs": [
    {
     "name": "stdout",
     "output_type": "stream",
     "text": [
      "This is my second line\n"
     ]
    }
   ],
   "source": [
    "with open('copy_xyz.txt','r')as f:\n",
    "    print(f.read())"
   ]
  },
  {
   "cell_type": "code",
   "execution_count": 44,
   "id": "61dbd957",
   "metadata": {},
   "outputs": [],
   "source": [
    "# anothe way to open a file"
   ]
  },
  {
   "cell_type": "markdown",
   "id": "70eb0878",
   "metadata": {},
   "source": [
    "# json data"
   ]
  },
  {
   "cell_type": "code",
   "execution_count": 45,
   "id": "07be197d",
   "metadata": {},
   "outputs": [],
   "source": [
    "# json data\n",
    "data={\n",
    "    'name':'ayan',\n",
    "    'mail_id':'ayan@gamil.com',\n",
    "    'phone_number':52542352354,\n",
    "    'subject':['data science','big data','data analytics']\n",
    "}"
   ]
  },
  {
   "cell_type": "code",
   "execution_count": 46,
   "id": "892c47ed",
   "metadata": {},
   "outputs": [],
   "source": [
    "import json"
   ]
  },
  {
   "cell_type": "code",
   "execution_count": 48,
   "id": "7f2bb5d8",
   "metadata": {},
   "outputs": [],
   "source": [
    "with open('data.json','w')as f:\n",
    "    json.dump(data,f)  # dump means write"
   ]
  },
  {
   "cell_type": "code",
   "execution_count": 50,
   "id": "5a334c4b",
   "metadata": {},
   "outputs": [
    {
     "name": "stdout",
     "output_type": "stream",
     "text": [
      "{'name': 'ayan', 'mail_id': 'ayan@gamil.com', 'phone_number': 52542352354, 'subject': ['data science', 'big data', 'data analytics']}\n"
     ]
    }
   ],
   "source": [
    "# read the data\n",
    "with open('data.json','r')as f:\n",
    "    data1=json.load(f)  # load means read\n",
    "    print(data1)"
   ]
  },
  {
   "cell_type": "markdown",
   "id": "f3c55ad6",
   "metadata": {},
   "source": [
    "# csv=comma separated value file"
   ]
  },
  {
   "cell_type": "code",
   "execution_count": 52,
   "id": "609b7940",
   "metadata": {},
   "outputs": [],
   "source": [
    "import csv"
   ]
  },
  {
   "cell_type": "code",
   "execution_count": 61,
   "id": "128dd159",
   "metadata": {},
   "outputs": [],
   "source": [
    "data1=[['name','email_id','phoe_number'],\n",
    "       ['ayan','ayan@gamil.com',423554523],\n",
    "       ['arshan','arshan@gmail.com',5479799877]\n",
    "]"
   ]
  },
  {
   "cell_type": "code",
   "execution_count": 62,
   "id": "35702698",
   "metadata": {},
   "outputs": [],
   "source": [
    "with open('data.csv','w')as f:\n",
    "    write=csv.writer(f)\n",
    "    \n",
    "    for i in data1:\n",
    "        write.writerow(i)"
   ]
  },
  {
   "cell_type": "code",
   "execution_count": 63,
   "id": "92eed825",
   "metadata": {},
   "outputs": [
    {
     "name": "stdout",
     "output_type": "stream",
     "text": [
      "['name', 'email_id', 'phoe_number']\n",
      "[]\n",
      "['ayan', 'ayan@gamil.com', '423554523']\n",
      "[]\n",
      "['arshan', 'arshan@gmail.com', '5479799877']\n",
      "[]\n"
     ]
    }
   ],
   "source": [
    "with open('data.csv','r')as f:\n",
    "    read=csv.reader(f)\n",
    "    \n",
    "    for i in read:\n",
    "        print(i)"
   ]
  },
  {
   "cell_type": "code",
   "execution_count": 64,
   "id": "c4523cfe",
   "metadata": {},
   "outputs": [],
   "source": [
    "# Binary data"
   ]
  },
  {
   "cell_type": "code",
   "execution_count": 66,
   "id": "069204fa",
   "metadata": {},
   "outputs": [],
   "source": [
    "with open('test.bin','wb')as f:\n",
    "    f.write(b'\\x01\\x02\\x03')"
   ]
  },
  {
   "cell_type": "code",
   "execution_count": 68,
   "id": "f6f21b7c",
   "metadata": {},
   "outputs": [
    {
     "name": "stdout",
     "output_type": "stream",
     "text": [
      "b'\\x01\\x02\\x03'\n"
     ]
    }
   ],
   "source": [
    "with open('test.bin','rb')as f:\n",
    "    print(f.read())"
   ]
  },
  {
   "cell_type": "markdown",
   "id": "d0e6b456",
   "metadata": {},
   "source": [
    "# Buffered Read and Write"
   ]
  },
  {
   "cell_type": "code",
   "execution_count": 69,
   "id": "0a399b86",
   "metadata": {},
   "outputs": [],
   "source": [
    "import io"
   ]
  },
  {
   "cell_type": "code",
   "execution_count": 76,
   "id": "15d3a691",
   "metadata": {},
   "outputs": [],
   "source": [
    "with open('test1.txt','wb')as f:\n",
    "    file=io.BufferedWriter(f)\n",
    "    \n",
    "    file.write(b'This is my first line')\n",
    "    file.write(b'This is my second line')\n",
    "    file.flush()   # flush meand close"
   ]
  },
  {
   "cell_type": "code",
   "execution_count": 77,
   "id": "ea7ce13d",
   "metadata": {},
   "outputs": [
    {
     "name": "stdout",
     "output_type": "stream",
     "text": [
      "b'This is my first lineThis is my second line'\n"
     ]
    }
   ],
   "source": [
    "with open('test1.txt','rb')as f:\n",
    "    file=io.BufferedReader(f)\n",
    "    data=file.read()\n",
    "    print(data)"
   ]
  },
  {
   "cell_type": "code",
   "execution_count": 79,
   "id": "de3b0fe2",
   "metadata": {},
   "outputs": [
    {
     "name": "stdout",
     "output_type": "stream",
     "text": [
      "b'This '\n"
     ]
    }
   ],
   "source": [
    "with open('test1.txt','rb')as f:\n",
    "    file=io.BufferedReader(f)\n",
    "    data=file.read(5)  # size of read\n",
    "    print(data)"
   ]
  },
  {
   "cell_type": "markdown",
   "id": "39a55cbf",
   "metadata": {},
   "source": [
    "# Logging and Debugger"
   ]
  },
  {
   "cell_type": "code",
   "execution_count": 1,
   "id": "44ae6c8a",
   "metadata": {},
   "outputs": [
    {
     "name": "stdout",
     "output_type": "stream",
     "text": [
      "This is my print\n"
     ]
    }
   ],
   "source": [
    "print('This is my print')"
   ]
  },
  {
   "cell_type": "code",
   "execution_count": 2,
   "id": "782d3307",
   "metadata": {},
   "outputs": [],
   "source": [
    "# if we debug some code and in future we want where my code show error because print only show in consoul then the reson we used logging"
   ]
  },
  {
   "cell_type": "code",
   "execution_count": 5,
   "id": "6b673aa6",
   "metadata": {},
   "outputs": [],
   "source": [
    "# in future we will able to do a inversatigation\n",
    "# print we dont used gerenaly\n",
    "# we perefer logging"
   ]
  },
  {
   "cell_type": "code",
   "execution_count": 6,
   "id": "6dab5bb1",
   "metadata": {},
   "outputs": [],
   "source": [
    "import logging"
   ]
  },
  {
   "cell_type": "code",
   "execution_count": 9,
   "id": "522b4a32",
   "metadata": {},
   "outputs": [],
   "source": [
    "logging.basicConfig(filename='test.log',level=logging.INFO)"
   ]
  },
  {
   "cell_type": "code",
   "execution_count": 10,
   "id": "fe6e0300",
   "metadata": {},
   "outputs": [],
   "source": [
    "logging.info('This is my first line')"
   ]
  },
  {
   "cell_type": "markdown",
   "id": "37f227f0",
   "metadata": {},
   "source": [
    "# in the logging there is multiple logging and all the level in ranking also\n",
    "- 1-NOTSET\n",
    "- 2-DEBUG\n",
    "- 3-INFO\n",
    "- 4-WARNING\n",
    "- 5-ERROR\n",
    "- 6-CRITICAL"
   ]
  },
  {
   "cell_type": "code",
   "execution_count": 12,
   "id": "87b16ce1",
   "metadata": {},
   "outputs": [],
   "source": [
    "logging.debug('this is my msg')"
   ]
  },
  {
   "cell_type": "code",
   "execution_count": 13,
   "id": "f185ea1c",
   "metadata": {},
   "outputs": [],
   "source": [
    "logging.warning('this is my warning')"
   ]
  },
  {
   "cell_type": "code",
   "execution_count": 14,
   "id": "eba432b1",
   "metadata": {},
   "outputs": [],
   "source": [
    "logging.error('This is my error')"
   ]
  },
  {
   "cell_type": "code",
   "execution_count": 15,
   "id": "cbacdc2f",
   "metadata": {},
   "outputs": [],
   "source": [
    "logging.critical('This is my critical')"
   ]
  },
  {
   "cell_type": "code",
   "execution_count": 16,
   "id": "5756ad91",
   "metadata": {},
   "outputs": [
    {
     "name": "stdout",
     "output_type": "stream",
     "text": [
      "INFO:root:This is my first line\n",
      "WARNING:root:this is my warning\n",
      "ERROR:root:This is my error\n",
      "CRITICAL:root:This is my critical\n",
      "\n"
     ]
    }
   ],
   "source": [
    "with open('test.log','r')as f:\n",
    "    print(f.read())"
   ]
  },
  {
   "cell_type": "code",
   "execution_count": 18,
   "id": "a92a5957",
   "metadata": {},
   "outputs": [],
   "source": [
    "# shutdown logging\n",
    "logging.shutdown()"
   ]
  },
  {
   "cell_type": "code",
   "execution_count": 17,
   "id": "400c8070",
   "metadata": {},
   "outputs": [],
   "source": [
    "# we are also able to give some configrence"
   ]
  },
  {
   "cell_type": "code",
   "execution_count": 1,
   "id": "589f65a2",
   "metadata": {},
   "outputs": [],
   "source": [
    "import logging"
   ]
  },
  {
   "cell_type": "code",
   "execution_count": 3,
   "id": "ee118487",
   "metadata": {},
   "outputs": [],
   "source": [
    "logging.basicConfig(filename='test1.log',level=logging.NOTSET,format ='%(asctime)s %(message)s')"
   ]
  },
  {
   "cell_type": "code",
   "execution_count": 4,
   "id": "58746f02",
   "metadata": {},
   "outputs": [],
   "source": [
    "logging.info('this is my info')\n",
    "logging.error('this is my error')\n",
    "logging.critical('this is my critical')"
   ]
  },
  {
   "cell_type": "code",
   "execution_count": 5,
   "id": "59b204b0",
   "metadata": {},
   "outputs": [
    {
     "name": "stdout",
     "output_type": "stream",
     "text": [
      "INFO:root:this is my info\n",
      "ERROR:root:this is my error\n",
      "CRITICAL:root:this is my critical\n",
      "\n"
     ]
    }
   ],
   "source": [
    "with open('test1.log','r')as f:\n",
    "    print(f.read())"
   ]
  },
  {
   "cell_type": "code",
   "execution_count": 6,
   "id": "1dac5551",
   "metadata": {},
   "outputs": [],
   "source": [
    "# it also record tiem in file"
   ]
  },
  {
   "cell_type": "code",
   "execution_count": 7,
   "id": "141e6a2b",
   "metadata": {},
   "outputs": [],
   "source": [
    "# if you find any error in logging go and resert kernal\n",
    "logging.shutdown()"
   ]
  },
  {
   "cell_type": "code",
   "execution_count": 9,
   "id": "b240b776",
   "metadata": {},
   "outputs": [],
   "source": [
    "l=[1,2,3,34,4,[2,3,4],'ayan','khan']\n",
    "l1_int=[]\n",
    "l2_str=[]\n",
    "for i in l:\n",
    "    logging.info('we are iterating through list{}'.format(l))\n",
    "    if type(i)==list:\n",
    "        logging.info('i am inside the statement'+ str(i))\n",
    "        for j in i:\n",
    "            logging.info('i am another for loop for list'+ str(j))\n",
    "            if type(j)==int:\n",
    "                logging.info('i am inside if statemnt')\n",
    "                l1_int.append(j)\n",
    "    elif type(i)==int:\n",
    "        l1_int.append(i)\n",
    "    else:\n",
    "        if type(i)==str:\n",
    "            l2_str.append(i)\n",
    "logging.info('My final result is '.format(l1=l1_int,l2=l2_str))"
   ]
  },
  {
   "cell_type": "code",
   "execution_count": 10,
   "id": "3512ec11",
   "metadata": {},
   "outputs": [],
   "source": [
    "# logging is a standard part"
   ]
  },
  {
   "cell_type": "markdown",
   "id": "d8f772a0",
   "metadata": {},
   "source": [
    "# Exception handling with Try"
   ]
  },
  {
   "cell_type": "code",
   "execution_count": 11,
   "id": "b42d4144",
   "metadata": {},
   "outputs": [],
   "source": [
    "a=10"
   ]
  },
  {
   "cell_type": "code",
   "execution_count": 12,
   "id": "a4a7f02a",
   "metadata": {},
   "outputs": [
    {
     "ename": "ZeroDivisionError",
     "evalue": "division by zero",
     "output_type": "error",
     "traceback": [
      "\u001b[1;31m---------------------------------------------------------------------------\u001b[0m",
      "\u001b[1;31mZeroDivisionError\u001b[0m                         Traceback (most recent call last)",
      "Cell \u001b[1;32mIn[12], line 1\u001b[0m\n\u001b[1;32m----> 1\u001b[0m a\u001b[38;5;241m/\u001b[39m\u001b[38;5;241m0\u001b[39m\n",
      "\u001b[1;31mZeroDivisionError\u001b[0m: division by zero"
     ]
    }
   ],
   "source": [
    "a/0"
   ]
  },
  {
   "cell_type": "code",
   "execution_count": 13,
   "id": "b0d47c33",
   "metadata": {},
   "outputs": [
    {
     "ename": "ZeroDivisionError",
     "evalue": "division by zero",
     "output_type": "error",
     "traceback": [
      "\u001b[1;31m---------------------------------------------------------------------------\u001b[0m",
      "\u001b[1;31mZeroDivisionError\u001b[0m                         Traceback (most recent call last)",
      "Cell \u001b[1;32mIn[13], line 1\u001b[0m\n\u001b[1;32m----> 1\u001b[0m a\u001b[38;5;241m/\u001b[39m\u001b[38;5;241m0\u001b[39m\n\u001b[0;32m      2\u001b[0m \u001b[38;5;28mprint\u001b[39m(\u001b[38;5;124m'\u001b[39m\u001b[38;5;124mthis is not a good\u001b[39m\u001b[38;5;124m'\u001b[39m)\n",
      "\u001b[1;31mZeroDivisionError\u001b[0m: division by zero"
     ]
    }
   ],
   "source": [
    "a/0\n",
    "print('this is not a good')"
   ]
  },
  {
   "cell_type": "code",
   "execution_count": 14,
   "id": "5d3d1274",
   "metadata": {},
   "outputs": [],
   "source": [
    "# python run code squence bise"
   ]
  },
  {
   "cell_type": "code",
   "execution_count": 15,
   "id": "4f5e2d42",
   "metadata": {},
   "outputs": [],
   "source": [
    "# that the reson we used exception handling"
   ]
  },
  {
   "cell_type": "code",
   "execution_count": 18,
   "id": "9d9039bb",
   "metadata": {},
   "outputs": [
    {
     "name": "stdout",
     "output_type": "stream",
     "text": [
      "Thiis is my exception block [Errno 2] No such file or directory: 'afkdfffff.txt'\n"
     ]
    }
   ],
   "source": [
    "# every code in put in try block\n",
    "try:\n",
    "    f=open('afkdfffff.txt','r')\n",
    "except Exception as e:\n",
    "    print('Thiis is my exception block',e)"
   ]
  },
  {
   "cell_type": "code",
   "execution_count": 17,
   "id": "2ae32b62",
   "metadata": {},
   "outputs": [],
   "source": [
    "# you can see the print is exceuted"
   ]
  },
  {
   "cell_type": "code",
   "execution_count": 21,
   "id": "506912d6",
   "metadata": {},
   "outputs": [
    {
     "name": "stdout",
     "output_type": "stream",
     "text": [
      "This will be excuted once you try will excuted without error\n"
     ]
    }
   ],
   "source": [
    "try:\n",
    "    b=4+7\n",
    "except Exception as e:\n",
    "    print('Thiis is my exception block',e)\n",
    "else:\n",
    "    print('This will be excuted once you try will excuted without error')"
   ]
  },
  {
   "cell_type": "code",
   "execution_count": 24,
   "id": "25ad5bea",
   "metadata": {},
   "outputs": [
    {
     "name": "stdout",
     "output_type": "stream",
     "text": [
      "Thiis is my exception block [Errno 2] No such file or directory: 'tswu.txt'\n",
      "finally will excuted itself\n"
     ]
    }
   ],
   "source": [
    "try:\n",
    "    f=open('tswu.txt','r')\n",
    "    f.write('write something')\n",
    "except Exception as e:\n",
    "    print('Thiis is my exception block',e)\n",
    "finally:\n",
    "    print('finally will excuted itself')"
   ]
  },
  {
   "cell_type": "code",
   "execution_count": 25,
   "id": "707fb7e4",
   "metadata": {},
   "outputs": [],
   "source": [
    "# create a custome exception"
   ]
  },
  {
   "cell_type": "code",
   "execution_count": 32,
   "id": "488113b8",
   "metadata": {},
   "outputs": [
    {
     "name": "stdout",
     "output_type": "stream",
     "text": [
      "enter you age-46\n"
     ]
    }
   ],
   "source": [
    "age=int(input('enter you age'))"
   ]
  },
  {
   "cell_type": "code",
   "execution_count": 33,
   "id": "1d16e554",
   "metadata": {},
   "outputs": [],
   "source": [
    "# age can't be negative\n",
    "# this we will handel"
   ]
  },
  {
   "cell_type": "code",
   "execution_count": 34,
   "id": "06b11341",
   "metadata": {},
   "outputs": [],
   "source": [
    "class validateage(Exception):\n",
    "    def __init__(self,msg):\n",
    "        self.msg=msg"
   ]
  },
  {
   "cell_type": "code",
   "execution_count": 37,
   "id": "4cc8d9b7",
   "metadata": {},
   "outputs": [],
   "source": [
    "def validaetage(age):\n",
    "    if age < 0:\n",
    "        raise validateage('enter age is negative')\n",
    "    elif age > 300:\n",
    "        raise validateage('enter age is very high')\n",
    "    else:\n",
    "        print('age is valid')"
   ]
  },
  {
   "cell_type": "code",
   "execution_count": 42,
   "id": "1da43c75",
   "metadata": {},
   "outputs": [
    {
     "name": "stdout",
     "output_type": "stream",
     "text": [
      "enter your age7\n",
      "age is valid\n"
     ]
    }
   ],
   "source": [
    "try:\n",
    "    age=int(input('enter your age'))\n",
    "    validaetage(age)\n",
    "except validateage as e:\n",
    "    print(e)"
   ]
  },
  {
   "cell_type": "code",
   "execution_count": 43,
   "id": "0c020618",
   "metadata": {},
   "outputs": [],
   "source": [
    "# list of gereral use Exception"
   ]
  },
  {
   "cell_type": "code",
   "execution_count": 44,
   "id": "30c9a844",
   "metadata": {},
   "outputs": [
    {
     "name": "stdout",
     "output_type": "stream",
     "text": [
      "division by zero\n"
     ]
    }
   ],
   "source": [
    "try:\n",
    "    a=10/0\n",
    "except ZeroDivisionError as e:\n",
    "    print(e)"
   ]
  },
  {
   "cell_type": "code",
   "execution_count": 47,
   "id": "4c0e626a",
   "metadata": {},
   "outputs": [
    {
     "name": "stdout",
     "output_type": "stream",
     "text": [
      "invalid literal for int() with base 10: 'ayan'\n"
     ]
    }
   ],
   "source": [
    "try:\n",
    "    int('ayan')\n",
    "except( ValueError,TypeError) as e:\n",
    "    print(e)"
   ]
  },
  {
   "cell_type": "code",
   "execution_count": 48,
   "id": "443a8abd",
   "metadata": {},
   "outputs": [
    {
     "name": "stdout",
     "output_type": "stream",
     "text": [
      "No module named 'ayan'\n"
     ]
    }
   ],
   "source": [
    "try:\n",
    "    import ayan\n",
    "except ImportError as e:\n",
    "    print(e)"
   ]
  },
  {
   "cell_type": "code",
   "execution_count": 52,
   "id": "e2bb58e9",
   "metadata": {},
   "outputs": [
    {
     "name": "stdout",
     "output_type": "stream",
     "text": [
      "'key2'\n"
     ]
    }
   ],
   "source": [
    "try:\n",
    "    d={'key':'ayan'}\n",
    "    print(d['key2'])\n",
    "except KeyError as e:\n",
    "    print(e)"
   ]
  },
  {
   "cell_type": "code",
   "execution_count": 53,
   "id": "71e56b01",
   "metadata": {},
   "outputs": [
    {
     "name": "stdout",
     "output_type": "stream",
     "text": [
      "'str' object has no attribute 'test'\n"
     ]
    }
   ],
   "source": [
    "try:\n",
    "    'ayan'.test()\n",
    "except AttributeError as e:\n",
    "    print(e)"
   ]
  },
  {
   "cell_type": "code",
   "execution_count": 54,
   "id": "fb9f5967",
   "metadata": {},
   "outputs": [
    {
     "name": "stdout",
     "output_type": "stream",
     "text": [
      "list index out of range\n"
     ]
    }
   ],
   "source": [
    "try:\n",
    "    l=[3,34,4,4]\n",
    "    print(l[6])\n",
    "except IndexError as e:\n",
    "    print(e)"
   ]
  },
  {
   "cell_type": "code",
   "execution_count": 59,
   "id": "16b21585",
   "metadata": {},
   "outputs": [
    {
     "name": "stdout",
     "output_type": "stream",
     "text": [
      "division by zero\n"
     ]
    }
   ],
   "source": [
    "# use always a specific exception\n",
    "try:\n",
    "    10/0\n",
    "except ZeroDivisionError as e:\n",
    "    print(e)"
   ]
  },
  {
   "cell_type": "code",
   "execution_count": 56,
   "id": "81fc7bcf",
   "metadata": {},
   "outputs": [],
   "source": [
    "# print always a proper message"
   ]
  },
  {
   "cell_type": "code",
   "execution_count": 61,
   "id": "142f3977",
   "metadata": {},
   "outputs": [
    {
     "name": "stdout",
     "output_type": "stream",
     "text": [
      "this is zero erroe division by zero\n"
     ]
    }
   ],
   "source": [
    "try:\n",
    "    10/0\n",
    "except ZeroDivisionError as e:\n",
    "    print('this is zero erroe',e)"
   ]
  },
  {
   "cell_type": "code",
   "execution_count": 65,
   "id": "2a8a6a9d",
   "metadata": {},
   "outputs": [],
   "source": [
    "# always try log your error\n",
    "# always avoid to write a multiple exception error\n",
    "# document all the error\n",
    "# cleanup all the resourses"
   ]
  },
  {
   "cell_type": "code",
   "execution_count": 64,
   "id": "ebc4b477",
   "metadata": {},
   "outputs": [
    {
     "name": "stdout",
     "output_type": "stream",
     "text": [
      "division by zero\n"
     ]
    }
   ],
   "source": [
    "try:\n",
    "    10/0\n",
    "except FileNotFoundError as e:\n",
    "    print(e)\n",
    "except AttributeError as e:\n",
    "    print(e)\n",
    "except ZeroDivisionError as e:\n",
    "    print(e)"
   ]
  },
  {
   "cell_type": "markdown",
   "id": "974f1545",
   "metadata": {},
   "source": [
    "# MCQ\n",
    "# 1.To open a file c:\\scores.txt for reading, we use _____\n",
    "\n",
    "\n",
    "- .infile = open(“c:\\scores.txt”, “r”)\n",
    "\n",
    "\n",
    "# .infile = open(“c:\\\\scores.txt”, “r”)\n",
    "\n",
    "\n",
    "- infile = open(file = “c:\\scores.txt”, “r”)\n",
    "\n",
    "\n",
    "- infile = open(file = “c:\\\\scores.txt”, “r”)\n",
    "\n",
    "# Explanation: Execute help(open) to get more details.\n",
    "\n",
    "# 2.Which of the following statements are true?\n",
    "\n",
    "\n",
    "- When you open a file for reading, if the file does not exist, an error occurs\n",
    "\n",
    "\n",
    "- When you open a file for writing, if the file does not exist, a new file is created\n",
    "\n",
    "\n",
    "- When you open a file for writing, if the file exists, the existing file is overwritten with the new file\n",
    "\n",
    "\n",
    "# All of the mentioned\n",
    "\n",
    "# Explanation: The program will throw an error.\n",
    "\n",
    "# 3.Which one of the following is not attributes of file?\n",
    "\n",
    "\n",
    "- closed\n",
    "\n",
    "\n",
    "- softspace\n",
    "\n",
    "\n",
    "# rename\n",
    "\n",
    "\n",
    "- mode\n",
    "\n",
    "# Explanation: rename is not the attribute of file rest all are files attributes. Attribute Description file.closed Returns true if file is closed, false otherwise. file.mode Returns access mode with which file was opened. file.name Returns name of the file. file.softspace Returns false if space explicitly required with print, true otherwise.\n",
    "\n",
    "# 4.Which of these methods are used to read in from file?\n",
    "\n",
    "\n",
    "- open()\n",
    "\n",
    "\n",
    "# read()\n",
    "\n",
    "\n",
    "- scan()\n",
    "\n",
    "\n",
    "- readFileInput()\n",
    "\n",
    "# Explanation: Each time read() is called, it reads a single byte from the file and returns the byte as an integer value. read() returns -1 when the end of the file is encountered.\n",
    "\n",
    "# 5.the logging …….. In python.\n",
    "\n",
    "\n",
    "- function\n",
    "\n",
    "\n",
    "# module\n",
    "\n",
    "\n",
    "- variable\n",
    "\n",
    "\n",
    "- datatype\n",
    "\n",
    "# Explanation: The logging module in Python is a ready-to-use and powerful module that is designed to meet the needs of beginners as well as enterprise teams. It is used by most of the third-party Python libraries, so you can integrate your log messages with the ones from those libraries to produce a homogeneous log for your application.\n",
    "\n",
    "# 6.which one of the following is the lowest level of logging?\n",
    "\n",
    "\n",
    "# debug\n",
    "\n",
    "\n",
    "- warming\n",
    "\n",
    "\n",
    "- error\n",
    "\n",
    "\n",
    "- none of the above\n",
    "\n",
    "# Explanation: Debug is the lowest logging level, it's used to log some diagnostic information about the application.\n",
    "\n",
    "# 7.Which of the following is not a logging function in Python?\n",
    "\n",
    "\n",
    "- logger\n",
    "\n",
    "\n",
    "# filter\n",
    "\n",
    "\n",
    "- critical\n",
    "\n",
    "\n",
    "# All the above\n",
    "\n",
    "# Explanation: \"filter\" is not a logging function in Python. It is actually a logging concept that allows you to control the flow of log messages based on a set of rules. Filters can be used to exclude certain log messages, based on their logging level, source, or any other criterion. Filters are specified using the addFilter method of a logger object\n",
    "\n",
    "# 8.which of these is not involved in the process of debugging?\n",
    "\n",
    "\n",
    "- Fixing\n",
    "\n",
    "\n",
    "- Isolating\n",
    "\n",
    "\n",
    "- Identifying\n",
    "\n",
    "\n",
    "# Testing\n",
    "\n",
    "# Explanation: Testing is a different process and is different from debugging. Debugging involves identifying, isolating and fixation of the problems or errors.\n",
    "\n",
    "# 9.What is the purpose of of the import statement in python?\n",
    "\n",
    "\n",
    "- import the statement into a python program\n",
    "\n",
    "\n",
    "- import the function into a python program\n",
    "\n",
    "\n",
    "# import the module into a python program\n",
    "\n",
    "\n",
    "- none of the above\n",
    "\n",
    "# Explanation: The import statement is used to import a module into a Python program, allowing you to use its definitions and statements. By using the import statement, you can access all the variables, functions, and classes defined in the imported module. You can then use them in your program as if they were defined locally.\n",
    "\n",
    "# 10.How can you reload a module in Python?\n",
    "\n",
    "\n",
    "# importlib.reload function.\n",
    "\n",
    "\n",
    "- import reload\n",
    "\n",
    "\n",
    "- import logging\n",
    "\n",
    "\n",
    "- none of the above\n",
    "\n",
    "# Explanation: The importlib.reload function reloads a previously imported module, allowing you to pick up changes that have been made to the module's code. This is useful in situations where you are developing a module and need to test changes without restarting your program.\n",
    "\n",
    "# 11.Which of these class contains the methods used to write in a file?\n",
    "\n",
    "\n",
    "- FileStream\n",
    "\n",
    "\n",
    "- FileInputStream\n",
    "\n",
    "\n",
    "# BUfferedOutputStream\n",
    "\n",
    "\n",
    "- FileBufferStream\n",
    "\n",
    "# Explanation: In Java, the FileOutputStream and FileWriter classes can be used to write to a file. The BufferedOutputStream class provides a buffering layer on top of an OutputStream, which can improve performance when writing to a file."
   ]
  },
  {
   "cell_type": "markdown",
   "id": "c2a14542",
   "metadata": {},
   "source": [
    "# Question-1- What is an Exception in python? Write the difference between Exception and syntax errors.\n",
    "\n",
    "# Answer-1- An exception is an event that occurs during the execution of a program that disrupts the normal flow of instructions. When an exceptional situation or error occurs, Python raises an exception, which is essentially a signal that something unexpected or erroneous has happened. Exceptions are used to handle runtime errors and other exceptional situations gracefully, allowing the program to handle the error and potentially recover from it, rather than crashing\n",
    "\n",
    "# Exception "
   ]
  },
  {
   "cell_type": "code",
   "execution_count": 1,
   "id": "86d91eaf",
   "metadata": {},
   "outputs": [
    {
     "name": "stdout",
     "output_type": "stream",
     "text": [
      "Division by zero is not allowed.\n",
      "Hello, world\n"
     ]
    }
   ],
   "source": [
    "try:\n",
    "    result = 10 / 0  \n",
    "except ZeroDivisionError:\n",
    "    print(\"Division by zero is not allowed.\")\n",
    "\n",
    "print(\"Hello, world\")"
   ]
  },
  {
   "cell_type": "markdown",
   "id": "ba7be527",
   "metadata": {},
   "source": [
    "# Question-2- What happens when an exception is not handled? Explain with an example.\n",
    "\n",
    "# Answer-2-When an exception is not handled in Python, it results in the program terminating abruptly and displaying an error message that provides information about the unhandled exception. This is often referred to as an \"unhandled exception\" or a \"crash.\" The error message includes a traceback, which shows the call stack and the line of code where the exception occurred. This traceback is useful for debugging but can be confusing for end-users if not handled gracefully."
   ]
  },
  {
   "cell_type": "code",
   "execution_count": 3,
   "id": "b6c1854d",
   "metadata": {},
   "outputs": [
    {
     "ename": "ZeroDivisionError",
     "evalue": "division by zero",
     "output_type": "error",
     "traceback": [
      "\u001b[1;31m---------------------------------------------------------------------------\u001b[0m",
      "\u001b[1;31mZeroDivisionError\u001b[0m                         Traceback (most recent call last)",
      "Cell \u001b[1;32mIn[3], line 4\u001b[0m\n\u001b[0;32m      2\u001b[0m     result \u001b[38;5;241m=\u001b[39m a \u001b[38;5;241m/\u001b[39m b  \n\u001b[0;32m      3\u001b[0m     \u001b[38;5;28;01mreturn\u001b[39;00m result\n\u001b[1;32m----> 4\u001b[0m result \u001b[38;5;241m=\u001b[39m div(\u001b[38;5;241m10\u001b[39m, \u001b[38;5;241m0\u001b[39m)\n\u001b[0;32m      5\u001b[0m \u001b[38;5;28mprint\u001b[39m(\u001b[38;5;124m\"\u001b[39m\u001b[38;5;124mResult:\u001b[39m\u001b[38;5;124m\"\u001b[39m, result)\n",
      "Cell \u001b[1;32mIn[3], line 2\u001b[0m, in \u001b[0;36mdiv\u001b[1;34m(a, b)\u001b[0m\n\u001b[0;32m      1\u001b[0m \u001b[38;5;28;01mdef\u001b[39;00m \u001b[38;5;21mdiv\u001b[39m(a, b):\n\u001b[1;32m----> 2\u001b[0m     result \u001b[38;5;241m=\u001b[39m a \u001b[38;5;241m/\u001b[39m b  \n\u001b[0;32m      3\u001b[0m     \u001b[38;5;28;01mreturn\u001b[39;00m result\n",
      "\u001b[1;31mZeroDivisionError\u001b[0m: division by zero"
     ]
    }
   ],
   "source": [
    "def div(a, b):\n",
    "    result = a / b  \n",
    "    return result\n",
    "result = div(10, 0)\n",
    "print(\"Result:\", result)"
   ]
  },
  {
   "cell_type": "code",
   "execution_count": 4,
   "id": "e8d71c9f",
   "metadata": {},
   "outputs": [],
   "source": [
    "# this is when exception is not handled\n",
    "def divide(a, b):\n",
    "    try:\n",
    "        result = a / b\n",
    "    except ZeroDivisionError:\n",
    "        print(\"Error: Division by zero is not allowed.\")\n",
    "        result = None \n",
    "    return result"
   ]
  },
  {
   "cell_type": "code",
   "execution_count": 5,
   "id": "a521949c",
   "metadata": {},
   "outputs": [
    {
     "name": "stdout",
     "output_type": "stream",
     "text": [
      "Error: Division by zero is not allowed.\n"
     ]
    }
   ],
   "source": [
    "result = divide(10, 0)"
   ]
  },
  {
   "cell_type": "code",
   "execution_count": 6,
   "id": "8f3ebe75",
   "metadata": {},
   "outputs": [
    {
     "name": "stdout",
     "output_type": "stream",
     "text": [
      "Result: None\n"
     ]
    }
   ],
   "source": [
    "print(\"Result:\", result)"
   ]
  },
  {
   "cell_type": "markdown",
   "id": "f3963bc7",
   "metadata": {},
   "source": [
    "# In this code modifi ZeroDivisionError\n",
    "# Question-3- Which Python statements are used to catch and handle exceptions? Explain with an example.\n",
    "\n",
    "# Answer-3-In Python, you can catch and handle exceptions using the 'try' and 'except' statements within a try-except block."
   ]
  },
  {
   "cell_type": "code",
   "execution_count": 7,
   "id": "a804b9dd",
   "metadata": {},
   "outputs": [],
   "source": [
    "import logging\n",
    "\n",
    "logging.basicConfig(filename='error.log', level=logging.ERROR, format='%(asctime)s - %(levelname)s: %(message)s')\n",
    "\n",
    "def safe_divide(a, b):\n",
    "    try:\n",
    "        result = a / b\n",
    "    except ZeroDivisionError as e:\n",
    "        logging.error(f\"ZeroDivisionError: {e}\")\n",
    "        print(\"Error: Division by zero is not allowed.\")\n",
    "        result = None\n",
    "    except ValueError as e:\n",
    "        logging.error(f\"ValueError: {e}\")\n",
    "        print(\"Error: Invalid input. Please enter valid numbers.\")\n",
    "        result = None\n",
    "    except Exception as e:\n",
    "        logging.error(f\"An unexpected error occurred: {e}\")\n",
    "        print(f\"An unexpected error occurred: {e}\")\n",
    "        result = None\n",
    "    return result"
   ]
  },
  {
   "cell_type": "code",
   "execution_count": 8,
   "id": "308ed604",
   "metadata": {},
   "outputs": [
    {
     "name": "stdout",
     "output_type": "stream",
     "text": [
      "Error: Division by zero is not allowed.\n"
     ]
    }
   ],
   "source": [
    "result1 = safe_divide(10, 0)"
   ]
  },
  {
   "cell_type": "code",
   "execution_count": 9,
   "id": "308c276a",
   "metadata": {},
   "outputs": [
    {
     "name": "stdout",
     "output_type": "stream",
     "text": [
      "An unexpected error occurred: unsupported operand type(s) for /: 'str' and 'int'\n"
     ]
    }
   ],
   "source": [
    "result2 = safe_divide(10, 2)\n",
    "result3 = safe_divide(\"abc\", 5)"
   ]
  },
  {
   "cell_type": "code",
   "execution_count": 10,
   "id": "f2ee4799",
   "metadata": {},
   "outputs": [
    {
     "name": "stdout",
     "output_type": "stream",
     "text": [
      "An unexpected error occurred: unsupported operand type(s) for /: 'int' and 'str'\n"
     ]
    }
   ],
   "source": [
    "result4 = safe_divide(10, \"2\")"
   ]
  },
  {
   "cell_type": "markdown",
   "id": "2e50c611",
   "metadata": {},
   "source": [
    "# Question-4-explain with an example. (a)-try and else, (b)-finally, (c)-raise. in python\n",
    "\n",
    "# Answer-4- (a) try and else in Python:-In Python, you can use a try block to enclose code that might raise an exception, and you can follow it with an else block that contains code to be executed if no exceptions are raised"
   ]
  },
  {
   "cell_type": "code",
   "execution_count": 11,
   "id": "1959dab7",
   "metadata": {},
   "outputs": [
    {
     "name": "stdout",
     "output_type": "stream",
     "text": [
      "Error: Division by zero is not allowed.\n"
     ]
    }
   ],
   "source": [
    "import logging\n",
    "\n",
    "logging.basicConfig(filename='error.log', level=logging.ERROR, format='%(asctime)s - %(levelname)s: %(message)s')\n",
    "\n",
    "def divide(a, b):\n",
    "    try:\n",
    "        result = a / b\n",
    "    except ZeroDivisionError as e:\n",
    "        logging.error(f\"ZeroDivisionError: {e}\")\n",
    "        print(\"Error: Division by zero is not allowed.\")\n",
    "        result = None\n",
    "    else:\n",
    "        logging.info(\"Division successful\")\n",
    "    return result \n",
    "result1 = divide(10, 0)  \n",
    "result2 = divide(10, 5)"
   ]
  },
  {
   "cell_type": "code",
   "execution_count": 12,
   "id": "3fda4aa9",
   "metadata": {},
   "outputs": [
    {
     "name": "stdout",
     "output_type": "stream",
     "text": [
      "Error: Division by zero is not allowed.\n"
     ]
    }
   ],
   "source": [
    "#(b)-finally with logging in Python\n",
    "import logging\n",
    "\n",
    "logging.basicConfig(filename='error.log', level=logging.ERROR, format='%(asctime)s - %(levelname)s: %(message)s')\n",
    "\n",
    "def divide(a, b):\n",
    "    try:\n",
    "        result = a / b\n",
    "    except ZeroDivisionError as e:\n",
    "        logging.error(f\"ZeroDivisionError: {e}\")\n",
    "        print(\"Error: Division by zero is not allowed.\")\n",
    "        result = None\n",
    "    finally:\n",
    "        logging.info(\"Cleanup and finalization\")\n",
    "    return result\n",
    "result1 = divide(10, 0)"
   ]
  },
  {
   "cell_type": "code",
   "execution_count": 13,
   "id": "ea032dc8",
   "metadata": {},
   "outputs": [],
   "source": [
    "result2 = divide(10, 2)"
   ]
  },
  {
   "cell_type": "code",
   "execution_count": 14,
   "id": "1fecffde",
   "metadata": {},
   "outputs": [
    {
     "name": "stdout",
     "output_type": "stream",
     "text": [
      "Custom error caught: Value cannot be negative\n"
     ]
    }
   ],
   "source": [
    "#(c)-raise with logging in Python:\n",
    "import logging\n",
    "\n",
    "logging.basicConfig(filename='error.log', level=logging.ERROR, format='%(asctime)s - %(levelname)s: %(message)s')\n",
    "\n",
    "class CustomError(Exception):\n",
    "    pass\n",
    "\n",
    "def custom_function(value):\n",
    "    try:\n",
    "        if value < 0:\n",
    "            raise CustomError(\"Value cannot be negative\")\n",
    "    except CustomError as e:\n",
    "        logging.error(f\"CustomError: {e}\")\n",
    "        print(f\"Custom error caught: {e}\")\n",
    "custom_function(-5)"
   ]
  },
  {
   "cell_type": "markdown",
   "id": "de337757",
   "metadata": {},
   "source": [
    "# Question-(5)- What are Custom Exceptions in python? Why do we need Custom Exceptions? Explain with an example.\n",
    "\n",
    "# Answer-5-Custom exceptions in Python are user-defined exception classes that you create to handle specific error conditions or situations in your code. These exceptions extend the base Exception class or one of its subclasses, allowing you to define your own exception hierarchy. Custom exceptions are useful when the built-in exceptions provided by Python don't accurately capture the nature of an error or when you want to provide more detailed and specific error messages\n"
   ]
  },
  {
   "cell_type": "code",
   "execution_count": 15,
   "id": "571db187",
   "metadata": {},
   "outputs": [
    {
     "name": "stdout",
     "output_type": "stream",
     "text": [
      "Custom error caught: Empty data provided\n"
     ]
    }
   ],
   "source": [
    "import logging\n",
    "\n",
    "logging.basicConfig(filename='error.log', level=logging.ERROR, format='%(asctime)s - %(levelname)s: %(message)s')\n",
    "\n",
    "class CustomError(Exception):\n",
    "    def __init__(self, message):\n",
    "        super().__init__(message)\n",
    "\n",
    "def process_data(data):\n",
    "    try:\n",
    "        if not data:\n",
    "            raise CustomError(\"Empty data provided\")\n",
    "    except CustomError as e:\n",
    "        logging.error(f\"CustomError: {e}\")\n",
    "        print(f\"Custom error caught: {e}\")\n",
    "\n",
    "try:\n",
    "    data = []\n",
    "    process_data(data)  \n",
    "except CustomError as e:\n",
    "    print(f\"Error handled: {e}\")"
   ]
  },
  {
   "cell_type": "markdown",
   "id": "6f498b3f",
   "metadata": {},
   "source": [
    "# Question-6- Create custom exception class. Use this class to handlen exception\n",
    "\n",
    "# Answer-6-"
   ]
  },
  {
   "cell_type": "code",
   "execution_count": 16,
   "id": "990b3be8",
   "metadata": {},
   "outputs": [
    {
     "name": "stdout",
     "output_type": "stream",
     "text": [
      "Error handled: Invalid input detected: abc\n"
     ]
    }
   ],
   "source": [
    "import logging\n",
    "\n",
    "logging.basicConfig(filename='error.log', level=logging.ERROR, format='%(asctime)s - %(levelname)s: %(message)s')\n",
    "\n",
    "class InvalidInputError(Exception):\n",
    "    def __init__(self, input_value):\n",
    "        self.input_value = input_value\n",
    "        message = f\"Invalid input detected: {input_value}\"\n",
    "        super().__init__(message)\n",
    "\n",
    "def process_input(input_data):\n",
    "    if not isinstance(input_data, int):\n",
    "        raise InvalidInputError(input_data)\n",
    "try:\n",
    "    input_data = \"abc\"\n",
    "    process_input(input_data)  \n",
    "except InvalidInputError as e:\n",
    "    print(f\"Error handled: {e}\")"
   ]
  },
  {
   "cell_type": "markdown",
   "id": "5fea175c",
   "metadata": {},
   "source": [
    "# Question-1- Explain why we have to use the Exception class while creating a Custom Exception. Note: Here Exception class refers to the base class for all the exceptions.\n",
    "\n",
    "# Answer-1-When creating custom exceptions in a programming language like Pythonit is recommended to inherit from the Exception class (or a more specific subclass of Exception) for several important reasons.\n",
    "\n",
    "- (1)-Consistency and Convention: In most programming languages, including Python, exception handling is a fundamental concept. By inheriting from the Exception class, you adhere to a convention that other developers will understand.\n",
    "\n",
    "- (2)-Clarity and Readability: When you create a custom exception class, it's an opportunity to give it a meaningful name that describes the specific error or exceptional condition that it represents. This enhances the readability of your code. For example, if you're developing a file handling library, creating a custom exception called FileNotFoundError makes your code much more self-explanatory than raising a generic Exception.\n"
   ]
  },
  {
   "cell_type": "code",
   "execution_count": 17,
   "id": "74e09238",
   "metadata": {},
   "outputs": [
    {
     "name": "stdout",
     "output_type": "stream",
     "text": [
      "Custom database error occurred: Error executing SQL query\n"
     ]
    }
   ],
   "source": [
    "import logging\n",
    "\n",
    "logging.basicConfig(filename='application.log', level=logging.ERROR)\n",
    "\n",
    "class CustomDatabaseError(Exception):\n",
    "    def __init__(self, message, sql_query=None):\n",
    "        super().__init__(message)\n",
    "        self.sql_query = sql_query\n",
    "        logging.error(f\"CustomDatabaseError: {message}\")\n",
    "        if sql_query:\n",
    "            logging.error(f\"SQL Query: {sql_query}\")\n",
    "\n",
    "def execute_database_query(sql_query):\n",
    "    try:\n",
    "        raise CustomDatabaseError(\"Error executing SQL query\", sql_query)\n",
    "    except CustomDatabaseError as e:\n",
    "        print(f\"Custom database error occurred: {e}\")\n",
    "\n",
    "sql_query = \"SELECT * FROM non_existent_table\"\n",
    "try:\n",
    "    execute_database_query(sql_query)\n",
    "except CustomDatabaseError as e:\n",
    "    print(\"Handling custom database error...\")"
   ]
  },
  {
   "cell_type": "markdown",
   "id": "28d309f4",
   "metadata": {},
   "source": [
    "# Question-2- Write a python program to print Python Exception Hierarchy.\n",
    "\n",
    "# Answer-2- You can print the Python Exception Hierarchy along with a conversation using a Python program that traverses the hierarchy of built-in exceptions and logs the information\n"
   ]
  },
  {
   "cell_type": "code",
   "execution_count": 18,
   "id": "70016f2f",
   "metadata": {},
   "outputs": [
    {
     "name": "stdout",
     "output_type": "stream",
     "text": [
      "Python Exception Hierarchy information has been logged to 'exception_hierarchy.log'.\n"
     ]
    }
   ],
   "source": [
    "import logging\n",
    "\n",
    "logging.basicConfig(filename='exception_hierarchy.log', level=logging.INFO)\n",
    "\n",
    "def print_exception_hierarchy(base_exception_class=BaseException, depth=0):\n",
    "    indentation = '  ' * depth  \n",
    "    logging.info(f\"{indentation}{base_exception_class.__name__}\")\n",
    "    \n",
    "    for subclass in base_exception_class.__subclasses__():\n",
    "        print_exception_hierarchy(subclass, depth + 1)\n",
    "\n",
    "if __name__ == \"__main__\":\n",
    "    logging.info(\"Python Exception Hierarchy:\")\n",
    "    print_exception_hierarchy()\n",
    "\n",
    "print(\"Python Exception Hierarchy information has been logged to 'exception_hierarchy.log'.\")"
   ]
  },
  {
   "cell_type": "markdown",
   "id": "170ac23f",
   "metadata": {},
   "source": [
    "# Question-3- What errors are defined in the ArithmeticError class? Explain any two with an example.\n",
    "\n",
    "# Answer-3-The ArithmeticError class is a base class for exceptions that arise during arithmetic operations in Python. It is a part of the Python exception hierarchy and serves as a parent class for more specific arithmetic-related exception classes. Two commonly used exceptions that are subclasses of ArithmeticError are ZeroDivisionError and OverflowError. Let's explain each of them with examples and include logging for better error handling\n"
   ]
  },
  {
   "cell_type": "code",
   "execution_count": 19,
   "id": "745795cf",
   "metadata": {},
   "outputs": [
    {
     "name": "stdout",
     "output_type": "stream",
     "text": [
      "Error occurred. Check the log for details.\n"
     ]
    }
   ],
   "source": [
    "#(1)-ZeroDivisionError\n",
    "import logging\n",
    "\n",
    "logging.basicConfig(filename='division_errors.log', level=logging.ERROR)\n",
    "\n",
    "def divide(a, b):\n",
    "    try:\n",
    "        result = a / b\n",
    "        return result\n",
    "    except ZeroDivisionError as e:\n",
    "        logging.error(f\"Division by zero: {e}\")\n",
    "        return None\n",
    "\n",
    "dividend = 10\n",
    "divisor = 0\n",
    "\n",
    "result = divide(dividend, divisor)\n",
    "\n",
    "if result is None:\n",
    "    print(\"Error occurred. Check the log for details.\")\n",
    "else:\n",
    "    print(f\"Result: {result}\")"
   ]
  },
  {
   "cell_type": "code",
   "execution_count": 20,
   "id": "63bf7198",
   "metadata": {},
   "outputs": [
    {
     "name": "stdout",
     "output_type": "stream",
     "text": [
      "Result: 10000000000000000000000000000000000000000000000000000000000000000000000000000000000000000000000000000000000000000000000000000000000000000000000000000000000000000000000000000000000000000000000000000000000000000000000000000000000000000000000000000000000000000000000000000000000000000000000000000000000000000000000000000000000000000000000000000000000000000000000000000000000000000000000000000000000000000000000000000000000000000000000000000000000000000000000000000000000000000000000000000000000000000000000000000000000000000000000000000000000000000000000000000000000000000000000000000000000000000000000000000000000000000000000000000000000000000000000000000000000000000000000000000000000000000000000000000000000000000000000000000000000000000000000000000000000000000000000000000000000000000000000000000000000000000000000000000000000000000000000000000000000000000000000000000000000000000000000000000000000000000000000000000000000000000000000000000000000000000000000000000000000000000000000000000000000000000\n"
     ]
    }
   ],
   "source": [
    "#(2)-OverflowError\n",
    "import logging\n",
    "\n",
    "logging.basicConfig(filename='overflow_errors.log', level=logging.ERROR)\n",
    "\n",
    "def calculate_power(base, exponent):\n",
    "    try:\n",
    "        result = base ** exponent\n",
    "        return result\n",
    "    except OverflowError as e:\n",
    "        logging.error(f\"Arithmetic overflow: {e}\")\n",
    "        return None\n",
    "\n",
    "base_value = 10\n",
    "exponent_value = 1000\n",
    "\n",
    "result = calculate_power(base_value, exponent_value)\n",
    "\n",
    "if result is None:\n",
    "    print(\"Error occurred. Check the log for details.\")\n",
    "else:\n",
    "    print(f\"Result: {result}\")"
   ]
  },
  {
   "cell_type": "markdown",
   "id": "efe90f5a",
   "metadata": {},
   "source": [
    "# Question-4- Why LookupError class is used? Explain with an example KeyError and IndexError.\n",
    "\n",
    "# Answer-4-The LookupError class in Python is used as a base class for exceptions related to lookup operations, such as indexing sequences or dictionaries. It serves as a parent class for more specific lookup-related exceptions. Two common exceptions that are subclasses of LookupError are KeyError and IndexError\n"
   ]
  },
  {
   "cell_type": "code",
   "execution_count": 21,
   "id": "9fea07f7",
   "metadata": {},
   "outputs": [
    {
     "name": "stdout",
     "output_type": "stream",
     "text": [
      "Key 'gender' not found in dictionary. Check the log for details.\n"
     ]
    }
   ],
   "source": [
    "#(1)-KeyError\n",
    "import logging\n",
    "\n",
    "logging.basicConfig(filename='key_errors.log', level=logging.ERROR)\n",
    "\n",
    "def access_dict(dictionary, key):\n",
    "    try:\n",
    "        value = dictionary[key]\n",
    "        return value\n",
    "    except KeyError as e:\n",
    "        logging.error(f\"Key not found: {e}\")\n",
    "        return None\n",
    "\n",
    "my_dict = {'name': 'Alice', 'age': 30, 'city': 'New York'}\n",
    "\n",
    "key_to_lookup = 'gender'\n",
    "\n",
    "result = access_dict(my_dict, key_to_lookup)\n",
    "\n",
    "if result is None:\n",
    "    print(f\"Key '{key_to_lookup}' not found in dictionary. Check the log for details.\")\n",
    "else:\n",
    "    print(f\"Value: {result}\")"
   ]
  },
  {
   "cell_type": "code",
   "execution_count": 22,
   "id": "e9ab1825",
   "metadata": {},
   "outputs": [
    {
     "name": "stdout",
     "output_type": "stream",
     "text": [
      "Index 10 is out of range. Check the log for details.\n"
     ]
    }
   ],
   "source": [
    "#(2)-index Error\n",
    "import logging\n",
    "\n",
    "logging.basicConfig(filename='index_errors.log', level=logging.ERROR)\n",
    "\n",
    "def access_list(my_list, index):\n",
    "    try:\n",
    "        value = my_list[index]\n",
    "        return value\n",
    "    except IndexError as e:\n",
    "        logging.error(f\"Index out of range: {e}\")\n",
    "        return None\n",
    "\n",
    "my_list = [10, 20, 30, 40, 50]\n",
    "\n",
    "index_to_lookup = 10\n",
    "\n",
    "result = access_list(my_list, index_to_lookup)\n",
    "\n",
    "if result is None:\n",
    "    print(f\"Index {index_to_lookup} is out of range. Check the log for details.\")\n",
    "else:\n",
    "    print(f\"Value: {result}\")"
   ]
  },
  {
   "cell_type": "markdown",
   "id": "981e357a",
   "metadata": {},
   "source": [
    "# Question-5- Explain ImportError. What is ModuleNotFoundError?\n",
    "\n",
    "# Answer-5-ImportError and ModuleNotFoundError are both exceptions in Python that occur when there are issues with importing modules, but they represent slightly different scenarios:\n"
   ]
  },
  {
   "cell_type": "code",
   "execution_count": 24,
   "id": "09bbd6a7",
   "metadata": {},
   "outputs": [
    {
     "name": "stdout",
     "output_type": "stream",
     "text": [
      "Import error occurred. Check the log for details.\n"
     ]
    }
   ],
   "source": [
    "#import error\n",
    "import logging\n",
    "\n",
    "logging.basicConfig(filename='import_errors.log', level=logging.ERROR)\n",
    "\n",
    "try:\n",
    "    import non_existent_module\n",
    "except ImportError as e:\n",
    "    logging.error(f\"Import error: {e}\")\n",
    "    print(\"Import error occurred. Check the log for details.\")"
   ]
  },
  {
   "cell_type": "code",
   "execution_count": 25,
   "id": "bfedc919",
   "metadata": {},
   "outputs": [
    {
     "name": "stdout",
     "output_type": "stream",
     "text": [
      "Module not found error occurred. Check the log for details.\n"
     ]
    }
   ],
   "source": [
    "#ModualNotFoundError\n",
    "import logging\n",
    "\n",
    "logging.basicConfig(filename='module_not_found_errors.log', level=logging.ERROR)\n",
    "\n",
    "try:\n",
    "    import non_existent_module\n",
    "except ModuleNotFoundError as e:\n",
    "    logging.error(f\"Module not found error: {e}\")\n",
    "    print(\"Module not found error occurred. Check the log for details.\")"
   ]
  },
  {
   "cell_type": "markdown",
   "id": "c69e5cb2",
   "metadata": {},
   "source": [
    "# Question-6- List down some best practices for exception handling in python.\n",
    "\n",
    "# Answer-6- Exception handling is a crucial part of writing reliable and maintainable Python code. Here are some best practices for exception handling in Python:\n",
    "\n",
    "- (1)-Use Descriptive and Informative Exception Names:Use built-in exceptions or create custom exceptions with meaningful names that describe the specific error or exceptional condition.\n",
    "\n",
    "- (2)-Handle Specific Exceptions:Avoid using broad except blocks that catch generic exceptions like Exception. Catch only the specific exceptions you can handle. \n",
    "- (3)-Use Multiple except Blocks:Use multiple except blocks to handle different exception types separately. This allows for more targeted error handling.\n",
    "\n",
    "- (4)-Use try...except...else Blocks:Use try...except...else blocks when you want to execute code only if no exceptions are raised. This can help reduce the nesting of your code.\n",
    "\n",
    "- (5)-Avoid Bare except:Avoid using bare except: without specifying the exception type, as it can hide bugs and make debugging difficult.\n",
    "\n",
    "- (6)-Reraise Exceptions When Appropriate:If you catch an exception but cannot handle it effectively, consider reraising it using raise without any additional arguments. This preserves the original traceback for better debugging.\n",
    "\n",
    "- (7)-Use finally Blocks for Cleanup:Utilize finally blocks to ensure that cleanup code (e.g., resource release) is executed, even if an exception occurs.\n",
    "\n",
    "- (8)-Log Exceptions:Use a logging framework (e.g., Python's logging module) to log exceptions. Include the exception type, a detailed error message, and any relevant context information. \n",
    "- (9)-Log at the Right Level of Detail:Log errors and exceptions with appropriate severity levels (e.g., ERROR for critical errors, WARNING for non-critical issues). Use different log levels (DEBUG, INFO, WARNING, ERROR, CRITICAL) to provide varying levels of detail in logs."
   ]
  },
  {
   "cell_type": "markdown",
   "id": "fab6c993",
   "metadata": {},
   "source": [
    "# MCQ"
   ]
  },
  {
   "cell_type": "markdown",
   "id": "a4280dab",
   "metadata": {},
   "source": [
    "# 1.What is the purpose of the try and except keywords in Python?\n",
    "\n",
    "\n",
    "# To handle errors and exceptions in a program.\n",
    "\n",
    "\n",
    "- To perform conditional operations.\n",
    "\n",
    "\n",
    "- To create user-defined functions.\n",
    "\n",
    "\n",
    "- To import modules.\n",
    "\n",
    "# Explanation: The try and except keywords are used to handle errors and exceptions in a program. The try block contains the code that might raise an exception, and the except block contains the code that will handle the exception if it occurs.\n",
    "\n",
    "# 2.What happens if an exception is raised in the try block?\n",
    "\n",
    "\n",
    "- The except block will be executed.\n",
    "\n",
    "\n",
    "# The program will continue to run.\n",
    "\n",
    "\n",
    "- The program will stop executing.\n",
    "\n",
    "\n",
    "- The program will stop executing.\n",
    "\n",
    "# Explanation: If an exception is raised in the try block, the program will immediately jump to the except block to handle the exception. If no exception is raised, the code in the except block will not be executed.\n",
    "\n",
    "# 3.What happens if no exception is raised in the try block?\n",
    "\n",
    "\n",
    "- The except block will be executed.\n",
    "\n",
    "\n",
    "# The program will continue to run.\n",
    "\n",
    "\n",
    "- The program will stop executing.\n",
    "\n",
    "\n",
    "- None of the above.\n",
    "\n",
    "# Explanation: If no exception is raised in the try block, the code in the except block will not be executed, and the program will continue to run normally.\n",
    "\n",
    "# 4.What is the use of the finally keyword in exception handling?\n",
    "\n",
    "\n",
    "- To handle exceptions and errors.\n",
    "\n",
    "\n",
    "- To specify a block of code that will be executed regardless of whether an exception was raised or not.\n",
    "\n",
    "\n",
    "# To create user-defined functions.\n",
    "\n",
    "\n",
    "- None of the above.\n",
    "\n",
    "# Explanation: The finally keyword can be used to specify a block of code that will be executed regardless of whether an exception was raised or not. The code in the finally block will always be executed, even if an exception is raised in the try block or if an error occurs in the except block.\n",
    "\n",
    "# 5.What is a custom exception in Python?\n",
    "\n",
    "\n",
    "- A built-in exception\n",
    "\n",
    "\n",
    "# A user-defined exception\n",
    "\n",
    "\n",
    "- Both A and B\n",
    "\n",
    "\n",
    "- none of the above\n",
    "\n",
    "# Explanation: A custom exception in Python is a user-defined exception that can be raised and caught in the same way as built-in exceptions.\n",
    "\n",
    "# 6.can you create a custom exception in Python?\n",
    "\n",
    "\n",
    "# By using the raise statement\n",
    "\n",
    "\n",
    "- By using the assert statement\n",
    "\n",
    "\n",
    "- Both A and B\n",
    "\n",
    "\n",
    "- none of the above\n",
    "\n",
    "# Explanation: To create a custom exception in Python, you need to define a new exception class that inherits from the built-in Exception class. You can then raise the custom exception by using the raise statement.\n"
   ]
  },
  {
   "cell_type": "markdown",
   "id": "d5de69c2",
   "metadata": {},
   "source": [
    "# 1._____ is a type of errors produce in python programs.\n",
    "\n",
    "\n",
    "- compile time error\n",
    "\n",
    "\n",
    "- run time error\n",
    "\n",
    "\n",
    "# both (a) and (b)\n",
    "\n",
    "\n",
    "- none of the above\n",
    "\n",
    "# Explanation: A compile-time error generally refers to the errors that correspond to the semantics or syntax. A runtime error refers to the error that we encounter during the code execution during runtime. We can easily fix a compile-time error during the development of code. A compiler cannot identify a runtime error.\n",
    "\n",
    "# 2.What exception is raised when a name is not found in the local or global namespace?\n",
    "\n",
    "\n",
    "- TypeError\n",
    "\n",
    "\n",
    "# NameError\n",
    "\n",
    "\n",
    "- ValueError\n",
    "\n",
    "\n",
    "- ImportError\n",
    "\n",
    "# Explanation: NameError is raised when a name is not found in the local or global namespace.\n",
    "\n",
    "# 3.What exception is raised when an attempt is made to divide a number by zero?\n",
    "\n",
    "\n",
    "# ZeroDivisionError\n",
    "\n",
    "\n",
    "- KeyError\n",
    "\n",
    "\n",
    "- IndexError\n",
    "\n",
    "\n",
    "- TypeError\n",
    "\n",
    "# Explanation: ZeroDivisionError is raised when an attempt is made to divide a number by zero.\n",
    "\n",
    "# 4.What exception is raised when a file or directory is requested but does not exist?\n",
    "\n",
    "\n",
    "- SyntaxError\n",
    "\n",
    "\n",
    "# FileNotFoundError\n",
    "\n",
    "\n",
    "- AttributeError\n",
    "\n",
    "\n",
    "- ImportError\n",
    "\n",
    "# Explanation: FileNotFoundError is raised when a file or directory is requested but does not exist.\n",
    "\n",
    "# 5.What exception is raised when an attribute reference or assignment fails?\n",
    "\n",
    "\n",
    "- ZeroDivisionError\n",
    "\n",
    "\n",
    "- KeyError\n",
    "\n",
    "\n",
    "# AttributeError\n",
    "\n",
    "\n",
    "- TypeError\n",
    "\n",
    "# Explanation: AttributeError is raised when an attribute reference or assignment fails.\n",
    "\n",
    "# 6.Look at the following code and select the correct description of error shown while executing it:\n",
    "\n",
    " \n",
    "\n",
    "# X = int(input(\"Enter a Number\")) \n",
    "\n",
    "# R = X*X print \"Square=\",R\n",
    "\n",
    "\n",
    "# can only concatenate str (not\n",
    "\n",
    " \n",
    "\n",
    "- \"int\") to str\n",
    "\n",
    "\n",
    "# missing parenthesis in call to 'print'\n",
    "\n",
    "\n",
    "- name 'Print' is not defined\n",
    "\n",
    "\n",
    "- none of the above\n",
    "\n",
    "# Explanation: missing parenthesis in call to 'print'."
   ]
  },
  {
   "cell_type": "markdown",
   "id": "ad4ff103",
   "metadata": {},
   "source": [
    "# Memory Management"
   ]
  },
  {
   "cell_type": "markdown",
   "id": "7394de51",
   "metadata": {},
   "source": [
    "# Multithreading"
   ]
  },
  {
   "cell_type": "code",
   "execution_count": 1,
   "id": "64f08c43",
   "metadata": {},
   "outputs": [],
   "source": [
    "# ever model work on different core if you want work your model in a singal core then we used multithreading"
   ]
  },
  {
   "cell_type": "code",
   "execution_count": 5,
   "id": "86b9d4bb",
   "metadata": {},
   "outputs": [],
   "source": [
    "def test(id):\n",
    "    print('prog start',id)"
   ]
  },
  {
   "cell_type": "code",
   "execution_count": 6,
   "id": "dd924fbf",
   "metadata": {},
   "outputs": [
    {
     "name": "stdout",
     "output_type": "stream",
     "text": [
      "prog start 45\n"
     ]
    }
   ],
   "source": [
    "test(45)"
   ]
  },
  {
   "cell_type": "code",
   "execution_count": 10,
   "id": "aa2b44f7",
   "metadata": {},
   "outputs": [],
   "source": [
    "import threading"
   ]
  },
  {
   "cell_type": "code",
   "execution_count": 11,
   "id": "da7d6f5b",
   "metadata": {},
   "outputs": [],
   "source": [
    "thread=[threading.Thread(target=test,args=(i,))for i in range(10)]"
   ]
  },
  {
   "cell_type": "code",
   "execution_count": 12,
   "id": "6ca5d16d",
   "metadata": {},
   "outputs": [
    {
     "data": {
      "text/plain": [
       "[<Thread(Thread-5 (test), initial)>,\n",
       " <Thread(Thread-6 (test), initial)>,\n",
       " <Thread(Thread-7 (test), initial)>,\n",
       " <Thread(Thread-8 (test), initial)>,\n",
       " <Thread(Thread-9 (test), initial)>,\n",
       " <Thread(Thread-10 (test), initial)>,\n",
       " <Thread(Thread-11 (test), initial)>,\n",
       " <Thread(Thread-12 (test), initial)>,\n",
       " <Thread(Thread-13 (test), initial)>,\n",
       " <Thread(Thread-14 (test), initial)>]"
      ]
     },
     "execution_count": 12,
     "metadata": {},
     "output_type": "execute_result"
    }
   ],
   "source": [
    "thread"
   ]
  },
  {
   "cell_type": "code",
   "execution_count": 13,
   "id": "48882509",
   "metadata": {},
   "outputs": [
    {
     "name": "stdout",
     "output_type": "stream",
     "text": [
      "prog start 0\n",
      "prog start 1\n",
      "prog start 2\n",
      "prog start 3\n",
      "prog start 4\n",
      "prog start 5\n",
      "prog start 6\n",
      "prog start 7\n",
      "prog start 8\n",
      "prog start 9\n"
     ]
    }
   ],
   "source": [
    "for t in thread:\n",
    "    t.start()"
   ]
  },
  {
   "cell_type": "code",
   "execution_count": 14,
   "id": "9f483f7e",
   "metadata": {},
   "outputs": [
    {
     "data": {
      "text/plain": [
       "[<Thread(Thread-5 (test), stopped 15636)>,\n",
       " <Thread(Thread-6 (test), stopped 12556)>,\n",
       " <Thread(Thread-7 (test), stopped 11596)>,\n",
       " <Thread(Thread-8 (test), stopped 23864)>,\n",
       " <Thread(Thread-9 (test), stopped 19956)>,\n",
       " <Thread(Thread-10 (test), stopped 8360)>,\n",
       " <Thread(Thread-11 (test), stopped 4832)>,\n",
       " <Thread(Thread-12 (test), stopped 12756)>,\n",
       " <Thread(Thread-13 (test), stopped 24476)>,\n",
       " <Thread(Thread-14 (test), stopped 5476)>]"
      ]
     },
     "execution_count": 14,
     "metadata": {},
     "output_type": "execute_result"
    }
   ],
   "source": [
    "thread"
   ]
  },
  {
   "cell_type": "code",
   "execution_count": 15,
   "id": "ca3529cd",
   "metadata": {},
   "outputs": [
    {
     "data": {
      "text/plain": [
       "2695724610496"
      ]
     },
     "execution_count": 15,
     "metadata": {},
     "output_type": "execute_result"
    }
   ],
   "source": [
    "id(thread)"
   ]
  },
  {
   "cell_type": "code",
   "execution_count": 17,
   "id": "8e72de44",
   "metadata": {},
   "outputs": [],
   "source": [
    "import threading\n",
    "import urllib.request\n",
    "\n",
    "def file_downlaod(url , filname) :\n",
    "    urllib.request.urlretrieve(url,filname)"
   ]
  },
  {
   "cell_type": "code",
   "execution_count": 18,
   "id": "a0e7ef26",
   "metadata": {},
   "outputs": [],
   "source": [
    "file_downlaod('https://raw.githubusercontent.com/itsfoss/text-files/master/agatha.txt' , \"test.txt\")"
   ]
  },
  {
   "cell_type": "code",
   "execution_count": 19,
   "id": "5882db91",
   "metadata": {},
   "outputs": [],
   "source": [
    "url_list  = ['https://raw.githubusercontent.com/itsfoss/text-files/master/agatha.txt','https://raw.githubusercontent.com/itsfoss/text-files/master/sherlock.txt','https://raw.githubusercontent.com/itsfoss/text-files/master/sample_log_file.txt']"
   ]
  },
  {
   "cell_type": "code",
   "execution_count": 20,
   "id": "009a7e65",
   "metadata": {},
   "outputs": [
    {
     "data": {
      "text/plain": [
       "['https://raw.githubusercontent.com/itsfoss/text-files/master/agatha.txt',\n",
       " 'https://raw.githubusercontent.com/itsfoss/text-files/master/sherlock.txt',\n",
       " 'https://raw.githubusercontent.com/itsfoss/text-files/master/sample_log_file.txt']"
      ]
     },
     "execution_count": 20,
     "metadata": {},
     "output_type": "execute_result"
    }
   ],
   "source": [
    "url_list"
   ]
  },
  {
   "cell_type": "code",
   "execution_count": 21,
   "id": "ee48214b",
   "metadata": {},
   "outputs": [],
   "source": [
    "file_name_list = ['data1.txt' , 'data2.txt' , 'data3.txt']"
   ]
  },
  {
   "cell_type": "code",
   "execution_count": 22,
   "id": "938a525f",
   "metadata": {},
   "outputs": [],
   "source": [
    "ther = [threading.Thread(target=file_downlaod , args = (url_list[i] , file_name_list[i]) ) for i in range(len(url_list))]"
   ]
  },
  {
   "cell_type": "code",
   "execution_count": 23,
   "id": "fd6d6ed4",
   "metadata": {},
   "outputs": [
    {
     "data": {
      "text/plain": [
       "[<Thread(Thread-17 (file_downlaod), initial)>,\n",
       " <Thread(Thread-18 (file_downlaod), initial)>,\n",
       " <Thread(Thread-19 (file_downlaod), initial)>]"
      ]
     },
     "execution_count": 23,
     "metadata": {},
     "output_type": "execute_result"
    }
   ],
   "source": [
    "ther"
   ]
  },
  {
   "cell_type": "code",
   "execution_count": 24,
   "id": "881760f8",
   "metadata": {},
   "outputs": [],
   "source": [
    "for t in ther :\n",
    "    t.start()"
   ]
  },
  {
   "cell_type": "code",
   "execution_count": 25,
   "id": "70da409c",
   "metadata": {},
   "outputs": [
    {
     "data": {
      "text/plain": [
       "[<Thread(Thread-17 (file_downlaod), stopped 12840)>,\n",
       " <Thread(Thread-18 (file_downlaod), stopped 19212)>,\n",
       " <Thread(Thread-19 (file_downlaod), stopped 1912)>]"
      ]
     },
     "execution_count": 25,
     "metadata": {},
     "output_type": "execute_result"
    }
   ],
   "source": [
    "ther"
   ]
  },
  {
   "cell_type": "code",
   "execution_count": 29,
   "id": "0fdb0d05",
   "metadata": {},
   "outputs": [],
   "source": [
    "import time"
   ]
  },
  {
   "cell_type": "code",
   "execution_count": 30,
   "id": "b5f15f6c",
   "metadata": {},
   "outputs": [],
   "source": [
    "def test1(id) :\n",
    "    for i in range(10) :\n",
    "        print(\"test1 %d printing %d %s\" %(id,i,time.ctime()))\n",
    "        time.sleep(1)"
   ]
  },
  {
   "cell_type": "code",
   "execution_count": 31,
   "id": "8ae2be86",
   "metadata": {},
   "outputs": [
    {
     "name": "stdout",
     "output_type": "stream",
     "text": [
      "test1 1 printing 0 Tue Feb 27 23:31:20 2024\n",
      "test1 1 printing 1 Tue Feb 27 23:31:21 2024\n",
      "test1 1 printing 2 Tue Feb 27 23:31:22 2024\n",
      "test1 1 printing 3 Tue Feb 27 23:31:23 2024\n",
      "test1 1 printing 4 Tue Feb 27 23:31:24 2024\n",
      "test1 1 printing 5 Tue Feb 27 23:31:25 2024\n",
      "test1 1 printing 6 Tue Feb 27 23:31:26 2024\n",
      "test1 1 printing 7 Tue Feb 27 23:31:27 2024\n",
      "test1 1 printing 8 Tue Feb 27 23:31:28 2024\n",
      "test1 1 printing 9 Tue Feb 27 23:31:29 2024\n"
     ]
    }
   ],
   "source": [
    "test1(1)"
   ]
  },
  {
   "cell_type": "code",
   "execution_count": 32,
   "id": "9051bc78",
   "metadata": {},
   "outputs": [],
   "source": [
    "thread1 = [threading.Thread(target=test1 , args  = (i,)) for i in range(3)]"
   ]
  },
  {
   "cell_type": "code",
   "execution_count": 33,
   "id": "5e6d6acb",
   "metadata": {},
   "outputs": [
    {
     "name": "stdout",
     "output_type": "stream",
     "text": [
      "test1 0 printing 0 Tue Feb 27 23:31:39 2024\n",
      "test1 1 printing 0 Tue Feb 27 23:31:39 2024\n",
      "test1 2 printing 0 Tue Feb 27 23:31:39 2024\n",
      "test1 0 printing 1 Tue Feb 27 23:31:40 2024\n",
      "test1 1 printing 1 Tue Feb 27 23:31:40 2024\n",
      "test1 2 printing 1 Tue Feb 27 23:31:40 2024\n",
      "test1 0 printing 2 Tue Feb 27 23:31:41 2024test1 2 printing 2 Tue Feb 27 23:31:41 2024\n",
      "test1 1 printing 2 Tue Feb 27 23:31:41 2024\n",
      "\n",
      "test1 2 printing 3 Tue Feb 27 23:31:42 2024test1 0 printing 3 Tue Feb 27 23:31:42 2024\n",
      "test1 1 printing 3 Tue Feb 27 23:31:42 2024\n",
      "\n",
      "test1 1 printing 4 Tue Feb 27 23:31:43 2024\n",
      "test1 0 printing 4 Tue Feb 27 23:31:43 2024\n",
      "test1 2 printing 4 Tue Feb 27 23:31:43 2024\n",
      "test1 2 printing 5 Tue Feb 27 23:31:44 2024\n",
      "test1 0 printing 5 Tue Feb 27 23:31:44 2024\n",
      "test1 1 printing 5 Tue Feb 27 23:31:44 2024\n",
      "test1 1 printing 6 Tue Feb 27 23:31:45 2024\n",
      "test1 0 printing 6 Tue Feb 27 23:31:45 2024\n",
      "test1 2 printing 6 Tue Feb 27 23:31:45 2024\n",
      "test1 2 printing 7 Tue Feb 27 23:31:46 2024test1 0 printing 7 Tue Feb 27 23:31:46 2024\n",
      "test1 1 printing 7 Tue Feb 27 23:31:46 2024\n",
      "\n",
      "test1 0 printing 8 Tue Feb 27 23:31:47 2024test1 1 printing 8 Tue Feb 27 23:31:47 2024\n",
      "test1 2 printing 8 Tue Feb 27 23:31:47 2024\n",
      "\n",
      "test1 1 printing 9 Tue Feb 27 23:31:48 2024\n",
      "test1 0 printing 9 Tue Feb 27 23:31:48 2024\n",
      "test1 2 printing 9 Tue Feb 27 23:31:48 2024\n"
     ]
    }
   ],
   "source": [
    "for t in thread1:\n",
    "    t.start()"
   ]
  },
  {
   "cell_type": "code",
   "execution_count": 34,
   "id": "1472e77e",
   "metadata": {},
   "outputs": [],
   "source": [
    "shared_var = 0\n",
    "lock_var = threading.Lock()"
   ]
  },
  {
   "cell_type": "code",
   "execution_count": 35,
   "id": "d45f0799",
   "metadata": {},
   "outputs": [
    {
     "name": "stdout",
     "output_type": "stream",
     "text": [
      "test2 is 0 has increased the shared variable by 1 test2 is 1 has increased the shared variable by 2 \n",
      "\n",
      "test2 is 2 has increased the shared variable by 3 \n"
     ]
    }
   ],
   "source": [
    "shared_var = 0\n",
    "#lock_var = threading.Lock()\n",
    "def test2(id) :\n",
    "    global shared_var\n",
    "    #with lock_var:\n",
    "    shared_var = shared_var+1\n",
    "    print(\"test2 is %d has increased the shared variable by %d \" % (id ,shared_var) )\n",
    "    time.sleep(1)\n",
    "\n",
    "ther4 = [threading.Thread(target=test2 , args = (i,) ) for i in range(3)]\n",
    "for t in ther4:\n",
    "    t.start()"
   ]
  },
  {
   "cell_type": "code",
   "execution_count": 36,
   "id": "ad7fe8cc",
   "metadata": {},
   "outputs": [
    {
     "name": "stdout",
     "output_type": "stream",
     "text": [
      "test2 is 0 has increased the shared variable by 4 \n"
     ]
    }
   ],
   "source": [
    "test2(0)"
   ]
  },
  {
   "cell_type": "code",
   "execution_count": 37,
   "id": "01f4ccb5",
   "metadata": {},
   "outputs": [
    {
     "data": {
      "text/plain": [
       "4"
      ]
     },
     "execution_count": 37,
     "metadata": {},
     "output_type": "execute_result"
    }
   ],
   "source": [
    "shared_var"
   ]
  },
  {
   "cell_type": "markdown",
   "id": "a46b7119",
   "metadata": {},
   "source": [
    "# Multiprocessing"
   ]
  },
  {
   "cell_type": "code",
   "execution_count": null,
   "id": "8f7c14cd",
   "metadata": {},
   "outputs": [],
   "source": [
    "import multiprocessing"
   ]
  },
  {
   "cell_type": "code",
   "execution_count": null,
   "id": "ddb0f3c8",
   "metadata": {},
   "outputs": [],
   "source": [
    "def test():\n",
    "    print(\"this is my multiprocessing prog\")\n",
    "\n",
    "if __name__ == '__main__':\n",
    "    m = multiprocessing.Process(target=test)\n",
    "    print(\"this is my main prog\")\n",
    "    m.start()\n",
    "    m.join()"
   ]
  },
  {
   "cell_type": "code",
   "execution_count": 39,
   "id": "b87e588a",
   "metadata": {},
   "outputs": [
    {
     "name": "stdout",
     "output_type": "stream",
     "text": [
      "this is my multiprocessing prog\n"
     ]
    }
   ],
   "source": [
    "test()"
   ]
  },
  {
   "cell_type": "code",
   "execution_count": null,
   "id": "afd49fb3",
   "metadata": {},
   "outputs": [],
   "source": [
    "def square(n):\n",
    "    return n**2\n",
    "\n",
    "if __name__ == '__main__':\n",
    "    with multiprocessing.Pool(processes=4) as pool :\n",
    "        out = pool.map(square , [1,2,3,4,5,6,7,8,9])\n",
    "        print(out)"
   ]
  },
  {
   "cell_type": "code",
   "execution_count": null,
   "id": "a5416341",
   "metadata": {},
   "outputs": [],
   "source": [
    "import multiprocessing\n",
    "def producer(q) :\n",
    "    for i in [\"sudh\", \"kuamr\" , \"asdf\"]:\n",
    "        q.put(i)\n",
    "\n",
    "def consume(q) :\n",
    "    while True :\n",
    "        item = q.get()\n",
    "        if item is None :\n",
    "            break\n",
    "        print(item)\n",
    "\n",
    "if __name__ == '__main__':\n",
    "    queue = multiprocessing.Queue()\n",
    "    m1 = multiprocessing.Process(target=producer , args= (queue,))\n",
    "    m2 = multiprocessing.Process(target=consume , args = (queue,))\n",
    "    m1.start()\n",
    "    m2.start()\n",
    "    queue.put(\"sudh\")\n",
    "    m1.join()\n",
    "    m2.join()"
   ]
  },
  {
   "cell_type": "code",
   "execution_count": null,
   "id": "1eeb7e6c",
   "metadata": {},
   "outputs": [],
   "source": [
    "import multiprocessing\n",
    "def square(index , value) :\n",
    "    value[index] = value[index]**2\n",
    "\n",
    "if __name__ == '__main__':\n",
    "    arr = multiprocessing.Array('i' , [2,3,4,5,6,7,8])\n",
    "    process = []\n",
    "    for i in range(7):\n",
    "        m = multiprocessing.Process(target=square , args = (i,arr))\n",
    "        process.append(m)\n",
    "        m.start()\n",
    "    for m in process:\n",
    "        m.join()\n",
    "    print(list(arr))"
   ]
  },
  {
   "cell_type": "code",
   "execution_count": null,
   "id": "8a9f56d4",
   "metadata": {},
   "outputs": [],
   "source": [
    "import multiprocessing\n",
    "def producer(q) :\n",
    "    for i in [\"sudh\", \"kuamr\" , \"asdf\"]:\n",
    "        q.put(i)\n",
    "\n",
    "def consume(q) :\n",
    "    while True :\n",
    "        item = q.get()\n",
    "        if item is None :\n",
    "            break\n",
    "        print(item)\n",
    "\n",
    "if __name__ == '__main__':\n",
    "    queue = multiprocessing.Queue()\n",
    "    m1 = multiprocessing.Process(target=producer , args= (queue,))\n",
    "    m2 = multiprocessing.Process(target=consume , args = (queue,))\n",
    "    m1.start()\n",
    "    m2.start()\n",
    "    queue.put(\"sudh\")\n",
    "    m1.join()\n",
    "    m2.join()"
   ]
  },
  {
   "cell_type": "code",
   "execution_count": null,
   "id": "80d99b17",
   "metadata": {},
   "outputs": [],
   "source": [
    "import multiprocessing\n",
    "def sender(conn , msg) :\n",
    "    for i in msg:\n",
    "        conn.send(i)\n",
    "    conn.close()\n",
    "\n",
    "def receive(conn) :\n",
    "    while True :\n",
    "        try :\n",
    "            msg = conn.recv()\n",
    "        except Exception as e :\n",
    "            print(e)\n",
    "            break\n",
    "        print(msg)\n",
    "\n",
    "if __name__ == '__main__' :\n",
    "    msg = [\"my name is sudh\" , \"this is my msg to students\" , \"i am taking class for multiprocssing \" ]\n",
    "    parent_con , child_con = multiprocessing.Pipe()\n",
    "    m1  = multiprocessing.Process(target=sender , args = (child_con , msg))\n",
    "    m2 = multiprocessing.Process(target=receive , args =(parent_con,))\n",
    "    m1.start()\n",
    "    m2.start()\n",
    "    m1.join()\n",
    "    child_con.close()\n",
    "    m2.join()\n",
    "    parent_con.close()"
   ]
  },
  {
   "cell_type": "markdown",
   "id": "9a7af04b",
   "metadata": {},
   "source": [
    "# Multithreading\n",
    "# Question-1- what is multithreading in python? hy is it used? Name the module used to handle threads in python\n",
    "\n",
    "# Answer-1-Multithreading in Python refers to the concurrent execution of multiple threads within a single Python process. Each thread is an independent unit of execution that can run concurrently with other threads. Multithreading is used to achieve parallelism in Python programs, allowing them to perform multiple tasks simultaneously, particularly in scenarios where tasks can be executed independently and concurrently.\n",
    "\n",
    "- (1)-Concurrency: Multithreading enables concurrent execution of tasks, which can lead to improved program responsiveness and performance. This is especially valuable when dealing with I/O-bound operations\n",
    "\n",
    "- (2)-Utilizing Multiple CPU Cores: In multi-core processors, multithreading allows Python programs to take advantage of multiple CPU cores, distributing tasks across cores for parallel processing. This can significantly speed up CPU-bound tasks.\n",
    "\n",
    "- (3)-Responsive User Interfaces: In graphical user interface (GUI) applications, multithreading can be used to keep the user interface responsive while background tasks are executed in separate threads\n",
    "\n",
    "- (4)-Concurrency Control: Multithreading can help manage and coordinate concurrent access to shared resources, such as data structures or hardware devices, by using synchronization mechanisms like locks and semaphores.\n",
    "\n",
    "# Question-2-why threading module used? rite the use of the following functions. 1-active count() 2- current Thread() 3-enumerate()\n",
    "\n",
    "- Answer-2-The threading module in Python is used for managing threads in a Python program. It provides a high-level interface to create, manage, and synchronize threads\n"
   ]
  },
  {
   "cell_type": "code",
   "execution_count": 26,
   "id": "3aa2a40c",
   "metadata": {},
   "outputs": [],
   "source": [
    "#activecount()\n",
    "import threading\n",
    "import logging\n",
    "logging.basicConfig(filename='threading_log.log', level=logging.INFO)\n",
    "\n",
    "def my_thread_function():\n",
    "    pass"
   ]
  },
  {
   "cell_type": "code",
   "execution_count": 27,
   "id": "ec621a87",
   "metadata": {},
   "outputs": [],
   "source": [
    "thread1 = threading.Thread(target=my_thread_function)\n",
    "thread2 = threading.Thread(target=my_thread_function)"
   ]
  },
  {
   "cell_type": "code",
   "execution_count": 28,
   "id": "d94225bd",
   "metadata": {},
   "outputs": [],
   "source": [
    "thread1.start()\n",
    "thread2.start()"
   ]
  },
  {
   "cell_type": "code",
   "execution_count": 29,
   "id": "acbfab59",
   "metadata": {},
   "outputs": [],
   "source": [
    "active_threads = threading.active_count()\n",
    "logging.info(f\"Active threads: {active_threads}\")"
   ]
  },
  {
   "cell_type": "code",
   "execution_count": 30,
   "id": "de2251bd",
   "metadata": {},
   "outputs": [],
   "source": [
    "#currentThread()\n",
    "import threading\n",
    "import logging\n",
    "logging.basicConfig(filename='threading_log.log', level=logging.INFO)\n",
    "\n",
    "def my_thread_function():\n",
    "    current_thread = threading.current_thread()\n",
    "    logging.info(f\"Current thread: {current_thread.name}\")\n",
    "\n",
    "thread = threading.Thread(target=my_thread_function)\n",
    "thread.start()"
   ]
  },
  {
   "cell_type": "code",
   "execution_count": 31,
   "id": "42036e5e",
   "metadata": {},
   "outputs": [],
   "source": [
    "#enumerate()\n",
    "import threading\n",
    "import logging\n",
    "logging.basicConfig(filename='threading_log.log', level=logging.INFO)\n",
    "\n",
    "def my_thread_function():\n",
    "    pass\n",
    "\n",
    "threads = [threading.Thread(target=my_thread_function) for _ in range(3)]\n",
    "\n",
    "for thread in threads:\n",
    "    thread.start()\n",
    "\n",
    "alive_threads = threading.enumerate()\n",
    "\n",
    "for thread in alive_threads:\n",
    "    logging.info(f\"Alive thread: {thread.name}\")"
   ]
  },
  {
   "cell_type": "markdown",
   "id": "d6d27e23",
   "metadata": {},
   "source": [
    "# Question-3- Explain the following functions 1-run() 2-start() 3-join() 4-isAlive()\n",
    "\n",
    "- The mentioned functions (run(), start(), join(), and isAlive()) are related to thread management in Python when using the threading module. When combined with logging, they can help you monitor and control thread behavior effectively\n"
   ]
  },
  {
   "cell_type": "code",
   "execution_count": 32,
   "id": "3f7a1d4c",
   "metadata": {},
   "outputs": [],
   "source": [
    "#run()\n",
    "import threading\n",
    "import logging\n",
    "\n",
    "logging.basicConfig(filename='threading_log.log', level=logging.INFO)\n",
    "\n",
    "class MyThread(threading.Thread):\n",
    "    def run(self):\n",
    "        logging.info(f\"{self.name} is executing.\")\n",
    "thread = MyThread()\n",
    "thread.start()"
   ]
  },
  {
   "cell_type": "code",
   "execution_count": 33,
   "id": "8dc08666",
   "metadata": {},
   "outputs": [],
   "source": [
    "#start()\n",
    "import threading\n",
    "import logging\n",
    "\n",
    "logging.basicConfig(filename='threading_log.log', level=logging.INFO)\n",
    "\n",
    "class MyThread(threading.Thread):\n",
    "    def run(self):\n",
    "        logging.info(f\"{self.name} is executing.\")\n",
    "thread = MyThread()\n",
    "thread.start()"
   ]
  },
  {
   "cell_type": "code",
   "execution_count": 34,
   "id": "4c3854f6",
   "metadata": {},
   "outputs": [],
   "source": [
    "#join()\n",
    "import threading\n",
    "import logging\n",
    "logging.basicConfig(filename='threading_log.log', level=logging.INFO)\n",
    "\n",
    "class MyThread(threading.Thread):\n",
    "    def run(self):\n",
    "        logging.info(f\"{self.name} is executing.\")\n",
    "thread = MyThread()\n",
    "thread.start()\n",
    "thread.join()\n",
    "logging.info(f\"{thread.name} has completed.\")"
   ]
  },
  {
   "cell_type": "code",
   "execution_count": 35,
   "id": "4bc19081",
   "metadata": {},
   "outputs": [
    {
     "ename": "AttributeError",
     "evalue": "'MyThread' object has no attribute 'isAlive'",
     "output_type": "error",
     "traceback": [
      "\u001b[1;31m---------------------------------------------------------------------------\u001b[0m",
      "\u001b[1;31mAttributeError\u001b[0m                            Traceback (most recent call last)",
      "Cell \u001b[1;32mIn[35], line 13\u001b[0m\n\u001b[0;32m     11\u001b[0m thread \u001b[38;5;241m=\u001b[39m MyThread()\n\u001b[0;32m     12\u001b[0m thread\u001b[38;5;241m.\u001b[39mstart()\n\u001b[1;32m---> 13\u001b[0m \u001b[38;5;28;01mif\u001b[39;00m thread\u001b[38;5;241m.\u001b[39misAlive():\n\u001b[0;32m     14\u001b[0m     logging\u001b[38;5;241m.\u001b[39minfo(\u001b[38;5;124mf\u001b[39m\u001b[38;5;124m\"\u001b[39m\u001b[38;5;132;01m{\u001b[39;00mthread\u001b[38;5;241m.\u001b[39mname\u001b[38;5;132;01m}\u001b[39;00m\u001b[38;5;124m is still running.\u001b[39m\u001b[38;5;124m\"\u001b[39m)\n\u001b[0;32m     15\u001b[0m \u001b[38;5;28;01melse\u001b[39;00m:\n",
      "\u001b[1;31mAttributeError\u001b[0m: 'MyThread' object has no attribute 'isAlive'"
     ]
    }
   ],
   "source": [
    "#isAlive()\n",
    "import threading\n",
    "import logging\n",
    "import time\n",
    "logging.basicConfig(filename='threading_log.log', level=logging.INFO)\n",
    "\n",
    "class MyThread(threading.Thread):\n",
    "    def run(self):\n",
    "        time.sleep(2)\n",
    "        logging.info(f\"{self.name} is executing.\")\n",
    "thread = MyThread()\n",
    "thread.start()\n",
    "if thread.isAlive():\n",
    "    logging.info(f\"{thread.name} is still running.\")\n",
    "else:\n",
    "    logging.info(f\"{thread.name} has completed.\")"
   ]
  },
  {
   "cell_type": "markdown",
   "id": "2f6ca4ec",
   "metadata": {},
   "source": [
    "# Question-4- write a python program to create two threads. Thread one must print the list of squares and thread two must print the list of cubes\n",
    "\n",
    "# Answer-4-"
   ]
  },
  {
   "cell_type": "code",
   "execution_count": 36,
   "id": "77639069",
   "metadata": {},
   "outputs": [],
   "source": [
    "import threading\n",
    "import logging\n",
    "logging.basicConfig(filename='squares_and_cubes_log.log', level=logging.INFO)\n",
    "\n",
    "def print_squares():\n",
    "    logging.info(\"Thread 1 (Squares) started.\")\n",
    "    for i in range(1, 6):\n",
    "        square = i ** 2\n",
    "        logging.info(f\"Square of {i} is {square}\")\n",
    "\n",
    "def print_cubes():\n",
    "    logging.info(\"Thread 2 (Cubes) started.\")\n",
    "    for i in range(1, 6):\n",
    "        cube = i ** 3\n",
    "        logging.info(f\"Cube of {i} is {cube}\")\n",
    "thread1 = threading.Thread(target=print_squares)\n",
    "thread2 = threading.Thread(target=print_cubes)\n",
    "thread1.start()\n",
    "thread2.start()\n",
    "thread1.join()\n",
    "thread2.join()\n",
    "logging.info(\"Main thread exits.\")"
   ]
  },
  {
   "cell_type": "markdown",
   "id": "5d58bff9",
   "metadata": {},
   "source": [
    "# Question-5- State advantages and disadvantages of multithreading\n",
    "\n",
    "# Answer-5-\n",
    "\n",
    "#Advantages of Multithreading:\n",
    "- (1)-Improved Performance: Multithreading can lead to better performance, especially on multi-core processors, by allowing multiple threads to execute simultaneously. This can result in faster execution of tasks.\n",
    "\n",
    "- (2)-Responsiveness: Multithreading can make an application more responsive by allowing certain tasks to run in the background while the main thread continues to handle user interactions and respond to events.\n",
    "\n",
    "- (3)-Efficient Resource Utilization: Threads share the same process memory space, making it more memory-efficient compared to processes. This can be beneficial when multiple tasks need to share data and resources.\n",
    "\n",
    "- (4)-Simplified Code: Multithreading can simplify the code by allowing you to structure programs with multiple concurrent flows of control, which can be more intuitive for certain tasks.\n",
    "\n",
    "- (5)-Parallelism: Multithreading is suitable for parallelism when tasks can be executed independently. This can significantly speed up CPU-bound operations.\n",
    "\n",
    "# Disadvantages of Multithreading:\n",
    "- (1)-Complexity: Multithreaded programs can be challenging to develop, debug, and maintain. Race conditions, deadlocks, and other synchronization issues can be hard to identify and resolve.\n",
    "\n",
    "- (2)-Resource Conflicts: Multiple threads sharing resources can lead to conflicts, such as data corruption or inconsistent states, if not properly synchronized.\n",
    "\n",
    "- (3)-Debugging Complexity: Debugging multithreaded applications can be difficult, as issues may not be consistently reproducible and can depend on timing and thread interleaving.\n",
    "\n",
    "- (4)-Overhead: Creating and managing threads comes with some overhead in terms of memory and CPU usage. For simple tasks, the overhead of creating threads may outweigh the benefits of parallelism.\n",
    "\n",
    "- (5)-Limited Scaling: While multithreading can provide performance improvements, it may not scale indefinitely. As the number of threads increases, managing them and avoiding contention for resources becomes more challenging.\n",
    "\n",
    "- (6)-Platform Dependence: Multithreading behavior can be platform-dependent, making it important to consider cross-platform compatibility when developing multithreaded applications.\n",
    "\n",
    "# Question-6- Explain deadlocks and race conditions.\n",
    "\n",
    "# Answer-6-Deadlocks and race conditions are two common concurrency-related problems that can occur in multithreaded or multi-process programs. They can lead to unexpected and undesirable behavior in your software\n",
    "\n",
    "# 1. Deadlock:A deadlock is a situation in which two or more threads or processes are unable to proceed because they are each waiting for the other(s) to release a resource or complete a task. In other words, it's a scenario where multiple entities are stuck in a circular wait for a resource, and none of them can make progress\n",
    "\n",
    "# 2. Race Condition:A race condition is a situation where the behavior of a program depends on the relative timing of events, such as the order in which threads or processes are scheduled to run. It occurs when multiple threads or processes access shared data concurrently, and at least one of them modifies the dat"
   ]
  },
  {
   "cell_type": "markdown",
   "id": "97347ccc",
   "metadata": {},
   "source": [
    "# Multiprocessing\n",
    "\n",
    "# Question-1- What is multiprocessing in python? Why is it useful?\n",
    "\n",
    "# Answer-1-Multiprocessing in Python refers to the ability to create and manage multiple processes in a Python program. Each process is a separate and independent execution unit, and multiprocessing allows these processes to run concurrently, making use of multiple CPU cores. It is a parallel processing technique and is useful for several reasons:\n",
    "\n",
    "- 1- Improved Performance:One of the primary advantages of multiprocessing is improved performance, especially on multi-core processors. By utilizing multiple processes, CPU-bound tasks can be executed in parallel, leading to faster execution times. \n",
    "- 2- Utilization of Multiple CPU Cores:Modern computers often come with multi-core processors. Multiprocessing allows you to take full advantage of these multiple CPU cores, distributing tasks across them for parallel execution.\n",
    "\n",
    "# Question-2- What are the differences between multiprocessing and multithreading?\n",
    "\n",
    "# Answer-2-Multiprocessing and multithreading are both techniques used for achieving concurrency and parallelism in a program, but they differ in several key aspects. Here are the main differences between multiprocessing and multithreading:\n",
    "\n",
    "# Processes vs. Threads:\n",
    "- 1-Multiprocessing: In multiprocessing, multiple processes are created, and each process runs in its own separate memory space and has its own Python interpreter. Processes are independent of each other. 2-Multithreading: In multithreading, multiple threads are created within a single process, and they share the same memory space and Python interpreter. Threads within the same process can communicate more easily.\n",
    "\n",
    "# Concurrency Model:\n",
    "- 1-Multiprocessing: Processes run concurrently, and they can execute tasks in parallel on multi-core processors. This is suitable for CPU-bound tasks. 2-Multithreading: Threads run concurrently within the same process and share resources, such as memory. Multithreading is often used for I/O-bound tasks.\n",
    "\n",
    "# Question-3- Write a python code to create a process using the multiprocessing module.\n",
    "\n",
    "# Answer-3-"
   ]
  },
  {
   "cell_type": "code",
   "execution_count": 37,
   "id": "86545e50",
   "metadata": {},
   "outputs": [],
   "source": [
    "import multiprocessing\n",
    "import logging\n",
    "logging.basicConfig(filename='multiprocessing_log.log', level=logging.INFO)\n",
    "\n",
    "def my_function():\n",
    "    logging.info(\"Child process is running.\")\n",
    "    for i in range(1, 4):\n",
    "        logging.info(f\"Child process working, step {i}\")\n",
    "    logging.info(\"Child process completed its work.\")\n",
    "\n",
    "if __name__ == \"__main__\":\n",
    "    child_process = multiprocessing.Process(target=my_function)\n",
    "child_process.start()\n",
    "child_process.join()\n",
    "logging.info(\"Main process is done.\")"
   ]
  },
  {
   "cell_type": "markdown",
   "id": "399cb395",
   "metadata": {},
   "source": [
    "# Question-4- What is a multiprocessing pool in python? Why is it used?\n",
    "\n",
    "# Answer-4-A multiprocessing pool is a high-level construct provided by the multiprocessing module that allows you to efficiently distribute and parallelize the execution of functions across multiple processes. It's particularly useful for performing tasks concurrently on a large dataset or for CPU-bound operations where you want to take advantage of multiple CPU cores.\n"
   ]
  },
  {
   "cell_type": "code",
   "execution_count": null,
   "id": "b32407bb",
   "metadata": {},
   "outputs": [],
   "source": [
    "import multiprocessing\n",
    "import logging\n",
    "logging.basicConfig(filename='multiprocessing_pool_log.log', level=logging.INFO)\n",
    "\n",
    "def process_data(data):\n",
    "    logging.info(f\"Processing data: {data}\")\n",
    "    result = data * 2\n",
    "    logging.info(f\"Processed data: {result}\")\n",
    "    return result\n",
    "\n",
    "if __name__ == \"__main__\":\n",
    "    pool = multiprocessing.Pool(processes=4)\n",
    "\n",
    "    data = [1, 2, 3, 4, 5]\n",
    "\n",
    "    results = pool.map(process_data, data)\n",
    "\n",
    "    pool.close()\n",
    "    pool.join()\n",
    "\n",
    "    logging.info(\"All processes completed.\")\n",
    "    print(results)"
   ]
  },
  {
   "cell_type": "markdown",
   "id": "5bc8107b",
   "metadata": {},
   "source": [
    "# Question-5- How can we create a pool of worker processes in python using the multiprocessing module?\n",
    "\n",
    "# Answer-5-"
   ]
  },
  {
   "cell_type": "code",
   "execution_count": null,
   "id": "03464425",
   "metadata": {},
   "outputs": [],
   "source": [
    "import multiprocessing\n",
    "import logging\n",
    "\n",
    "logging.basicConfig(filename='multiprocessing_pool_log.log', level=logging.INFO)\n",
    "\n",
    "def process_data(data):\n",
    "    logging.info(f\"Processing data: {data}\")\n",
    "    result = data * 2\n",
    "    logging.info(f\"Processed data: {result}\")\n",
    "    return result\n",
    "\n",
    "if __name__ == \"__main__\":\n",
    "    pool = multiprocessing.Pool(processes=4)  \n",
    "data = [1, 2, 3, 4, 5]\n",
    "results = pool.map(process_data, data)\n",
    "pool.close()\n",
    "pool.join()\n",
    "logging.info(\"All processes completed.\")\n",
    "print(results)"
   ]
  },
  {
   "cell_type": "markdown",
   "id": "ebf72f33",
   "metadata": {},
   "source": [
    "# Question-6- Write a python program to create 4 processes, each process should print a different number using the multiprocessing module in python.\n",
    "\n",
    "# Answer-6-"
   ]
  },
  {
   "cell_type": "code",
   "execution_count": null,
   "id": "e8b0f0a6",
   "metadata": {},
   "outputs": [],
   "source": [
    "import multiprocessing\n",
    "import logging\n",
    "\n",
    "# Configure the logger\n",
    "logging.basicConfig(filename='multiprocessing_numbers.log', level=logging.INFO)\n",
    "\n",
    "# Define a function for each process to print a number\n",
    "def print_number(number):\n",
    "    logging.info(f\"Process {number} prints the number {number}\")\n",
    "\n",
    "if __name__ == \"__main__\":\n",
    "    # Create a list of numbers to assign to each process\n",
    "    numbers = [1, 2, 3, 4]\n",
    "\n",
    "    # Create and start 4 processes\n",
    "    processes = []\n",
    "    for num in numbers:\n",
    "        process = multiprocessing.Process(target=print_number, args=(num,))\n",
    "        processes.append(process)\n",
    "        process.start()\n",
    "\n",
    "    # Wait for all processes to complete\n",
    "    for process in processes:\n",
    "        process.join()\n",
    "\n",
    "    logging.info(\"All processes have completed.\")"
   ]
  },
  {
   "cell_type": "markdown",
   "id": "70606075",
   "metadata": {},
   "source": [
    "# MCQ"
   ]
  },
  {
   "cell_type": "markdown",
   "id": "c65be2e0",
   "metadata": {},
   "source": [
    "# 1.What is multithreading in Python?\n",
    "\n",
    "\n",
    "# A process of running multiple threads simultaneously within a single process.\n",
    "\n",
    "\n",
    "- A process of running multiple processes simultaneously within a single thread.\n",
    "\n",
    "\n",
    "- A process of running multiple processes simultaneously within multiple threads.\n",
    "\n",
    "\n",
    "- A process of running a single process within multiple threads.\n",
    "\n",
    " \n",
    "\n",
    "# Explanation: A is the correct answer, as multithreading in Python is the process of running multiple threads simultaneously within a single process.\n",
    "\n",
    "# 2.What is the purpose of multithreading in Python?\n",
    "\n",
    "\n",
    "# To improve the performance of a program by using multiple CPUs or CPU cores.\n",
    "\n",
    "\n",
    "- To improve the memory utilization of a program by using multiple CPUs or CPU cores.\n",
    "\n",
    "\n",
    "- To improve the overall efficiency of a program by using multiple CPUs or CPU cores.\n",
    "\n",
    "\n",
    "- To improve the input/output operations of a program by using multiple CPUs or CPU cores.\n",
    "\n",
    "# Explanation: A is the correct answer, as the primary purpose of multithreading in Python is to improve the performance of a program by using multiple CPUs or CPU cores.\n",
    "\n",
    "# 3.Which module is used to create and manage threads in Python?\n",
    "\n",
    "\n",
    "# threading\n",
    "\n",
    "\n",
    "- multiprocessing\n",
    "\n",
    "\n",
    "- concurrent.futures\n",
    "\n",
    "\n",
    "- queue\n",
    "\n",
    "# Explanation: A is the correct answer, as the threading module is used to create and manage threads in Python.\n",
    "\n",
    "# 4.What is a mutex in multithreading?\n",
    "\n",
    "\n",
    "- A type of thread that performs a specific task.\n",
    "\n",
    "\n",
    "- A type of thread that runs in the background to handle incoming requests.\n",
    "\n",
    "\n",
    "# A synchronization primitive used to protect shared resources from being accessed by multiple threads at the same time.\n",
    "\n",
    "\n",
    "- A built-in function in Python that is used to release the Global Interpreter Lock.\n",
    "\n",
    "# Explanation: C is the correct answer, as a mutex is a synchronization primitive used to protect shared resources from being accessed by multiple threads at the same time.\n",
    "\n",
    "# 5.Which method is used to start a new thread in Python?\n",
    "\n",
    "\n",
    "# start()\n",
    "\n",
    "\n",
    "- run()\n",
    "\n",
    "\n",
    "- create()\n",
    "\n",
    "\n",
    "- begin()\n",
    "\n",
    "# Explanation: A is the correct answer, as the start() method is used to start a new thread in Python.\n",
    "\n",
    "# 6.What is the Global Interpreter Lock (GIL) in Python?\n",
    "\n",
    "\n",
    "- A lock used to protect shared resources from being accessed by multiple threads at the same time.\n",
    "\n",
    "\n",
    "# A mechanism used by Python to ensure that only one thread executes Python bytecode at a time.\n",
    "\n",
    "\n",
    "- A thread that runs in the background to handle incoming requests.\n",
    "\n",
    "\n",
    "- A type of thread that performs a specific task.\n",
    "\n",
    "# Explanation: B is the correct answer, as the Global Interpreter Lock (GIL) is a mechanism used by Python to ensure that only one thread executes Python bytecode at a time."
   ]
  },
  {
   "cell_type": "markdown",
   "id": "c2a2f3ef",
   "metadata": {},
   "source": [
    "# 1.What is multiprocessing in Python?\n",
    "\n",
    "\n",
    "- A process of running multiple threads simultaneously within a single process.\n",
    "\n",
    "\n",
    "# A process of running multiple processes simultaneously within a single thread.\n",
    "\n",
    "\n",
    "- A process of running multiple processes simultaneously within multiple threads.\n",
    "\n",
    "\n",
    "- A process of running a single process within multiple threads.\n",
    "\n",
    "# Explanation: B is the correct answer, as multiprocessing in Python is the process of running multiple processes simultaneously within a single thread.\n",
    "\n",
    "# 2.What is the purpose of multiprocessing in Python?\n",
    "\n",
    "\n",
    "# To improve the performance of a program by using multiple CPUs or CPU cores.\n",
    "\n",
    "\n",
    "- To improve the memory utilization of a program by using multiple CPUs or CPU cores.\n",
    "\n",
    "\n",
    "- To improve the overall efficiency of a program by using multiple CPUs or CPU cores.\n",
    "\n",
    "\n",
    "- To improve the input/output operations of a program by using multiple CPUs or CPU cores.\n",
    "\n",
    "# Explanation: A is the correct answer, as the primary purpose of multiprocessing in Python is to improve the performance of a program by using multiple CPUs or CPU cores.\n",
    "\n",
    "# 3.Which module is used to create and manage processes in Python?\n",
    "\n",
    "\n",
    "# multiprocessing\n",
    "\n",
    "\n",
    "- threading\n",
    "\n",
    "\n",
    "- concurrent.futures\n",
    "\n",
    "\n",
    "- queue\n",
    "\n",
    "# Explanation: A is the correct answer, as the multiprocessing module is used to create and manage processes in Python.\n",
    "\n",
    "# 4.What is a process pool in multiprocessing?\n",
    "\n",
    "\n",
    "- A group of threads that share the same set of variables.\n",
    "\n",
    "\n",
    "- A group of processes that share the same set of variables.\n",
    "\n",
    "\n",
    "# A set of processes that can be executed concurrently to perform a specific task.\n",
    "\n",
    "\n",
    "- A set of threads that can be executed concurrently to perform a specific task.\n",
    "\n",
    "# Explanation: C is the correct answer, as a process pool is a set of processes that can be executed concurrently to perform a specific task.\n",
    "\n",
    "# 5.Which method is used to start a new process in Python?\n",
    "\n",
    "\n",
    "# start()\n",
    "\n",
    "\n",
    "- run()\n",
    "\n",
    "\n",
    "- create()\n",
    "\n",
    "\n",
    "- begin()\n",
    "\n",
    "# Explanation: A is the correct answer, as the start() method is used to start a new process in Python.\n",
    "\n",
    "# 6.What is the difference between multiprocessing and multithreading in Python?\n",
    "\n",
    "\n",
    "# Multithreading runs multiple threads simultaneously within a single process, while multiprocessing runs multiple processes simultaneously within a single thread.\n",
    "\n",
    "\n",
    "- Multithreading runs multiple processes simultaneously within a single thread, while multiprocessing runs multiple threads simultaneously within a single process.\n",
    "\n",
    "\n",
    "- Multithreading and multiprocessing are the same thing.\n",
    "\n",
    "\n",
    "- Multiprocessing is used for CPU-bound tasks, while multithreading is used for I/O-bound tasks.\n",
    "\n",
    "# Explanation: A is the correct answer, as the primary difference between multiprocessing and multithreading in Python is that multiprocessing runs multiple processes simultaneously within a single thread, while multithreading runs multiple threads simultaneously within a single process. The other options are incorrect."
   ]
  },
  {
   "cell_type": "code",
   "execution_count": null,
   "id": "9717f00f",
   "metadata": {},
   "outputs": [],
   "source": []
  }
 ],
 "metadata": {
  "kernelspec": {
   "display_name": "Python 3 (ipykernel)",
   "language": "python",
   "name": "python3"
  },
  "language_info": {
   "codemirror_mode": {
    "name": "ipython",
    "version": 3
   },
   "file_extension": ".py",
   "mimetype": "text/x-python",
   "name": "python",
   "nbconvert_exporter": "python",
   "pygments_lexer": "ipython3",
   "version": "3.11.5"
  }
 },
 "nbformat": 4,
 "nbformat_minor": 5
}
